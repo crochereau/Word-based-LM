{
 "cells": [
  {
   "cell_type": "code",
   "execution_count": 1,
   "metadata": {
    "collapsed": true
   },
   "outputs": [],
   "source": [
    "import csv\n",
    "import numpy as np\n",
    "import pandas as pd\n",
    "import pickle\n",
    "import random \n",
    "from sklearn.metrics import roc_curve\n",
    "from sklearn.metrics import roc_auc_score\n",
    "import matplotlib\n",
    "from matplotlib import pyplot\n",
    "import glob\n",
    "from matplotlib import colors"
   ]
  },
  {
   "cell_type": "code",
   "execution_count": 2,
   "metadata": {
    "collapsed": false
   },
   "outputs": [],
   "source": [
    "ORDER_CASE = [\n",
    "    \"ANN\", \"NAN\", \"NNA\", \"NDN\", \"DNN\", \"NND\",\n",
    "    \"NAA\", \"AAN\", \"ANA\", \"ADA\", \"DAA\", \"AAD\",\n",
    "    \"DDN\", \"DND\", \"NDD\", \"ADD\", \"DDA\", \"DAD\",\n",
    "] \n",
    "MAGIC_INDEX = {\n",
    "    w: i for w, i in zip(ORDER_CASE, range(0, 2000, 6))\n",
    "}\n",
    "BASE_CASE_ASSIGNMENT = {\n",
    "    \"NAD\": 0,\n",
    "    \"NDA\": 1,\n",
    "    \"AND\": 2,\n",
    "    \"ADN\": 3,\n",
    "    \"DNA\": 4,\n",
    "    \"DAN\": 5,\n",
    "}\n",
    "REV_BASE_CASE_ASSIGNMENT = {j:i for i,j \n",
    "                            in BASE_CASE_ASSIGNMENT.items()}"
   ]
  },
  {
   "cell_type": "code",
   "execution_count": 3,
   "metadata": {
    "collapsed": false
   },
   "outputs": [],
   "source": [
    "def get_one_letter_diff(word):\n",
    "    violations = []\n",
    "    letters = [\"A\", \"D\", \"N\"]\n",
    "    for letter_1 in letters:\n",
    "        for letter_2 in letters:\n",
    "            if letter_1 != letter_2:\n",
    "                violations.append(word.replace(letter_1, letter_2))                \n",
    "    return violations    \n",
    "\n",
    "def get_all_violations(global_idx):\n",
    "    \"\"\"global idx is 1 indexed, goes up to 7200\"\"\"\n",
    "    template = (global_idx) // 36\n",
    "    idx = global_idx % 36\n",
    "    \n",
    "    word_order = idx % 6\n",
    "    base_case_assignment = REV_BASE_CASE_ASSIGNMENT[idx // 6]\n",
    "    violations = get_one_letter_diff(base_case_assignment)\n",
    "    violations = [MAGIC_INDEX[v] + word_order for v in violations]\n",
    "    \n",
    "    start = template * 108 \n",
    "    return [v + start + 1800  for v in violations ]"
   ]
  },
  {
   "cell_type": "code",
   "execution_count": 4,
   "metadata": {
    "collapsed": false
   },
   "outputs": [
    {
     "data": {
      "text/plain": [
       "['DND', 'NND', 'ANA', 'ANN', 'AAD', 'ADD']"
      ]
     },
     "execution_count": 4,
     "metadata": {},
     "output_type": "execute_result"
    }
   ],
   "source": [
    "get_one_letter_diff('AND')\n"
   ]
  },
  {
   "cell_type": "code",
   "execution_count": 5,
   "metadata": {
    "collapsed": false
   },
   "outputs": [
    {
     "data": {
      "text/plain": [
       "[1884, 1830, 1836, 1806, 1866, 1902]"
      ]
     },
     "execution_count": 5,
     "metadata": {},
     "output_type": "execute_result"
    }
   ],
   "source": [
    "get_all_violations(0)"
   ]
  },
  {
   "cell_type": "code",
   "execution_count": 8,
   "metadata": {
    "collapsed": false
   },
   "outputs": [],
   "source": [
    "GRAMMATICAL_TXT = \"data/grammatical_sentences.txt\"\n",
    "UNGRAMMATICAL_TXT = \"data/ungrammatical_sentences.txt\"\n",
    "\n",
    "def load_lines(path):\n",
    "    with open(path) as infile:\n",
    "        return infile.read().splitlines()\n",
    "    \n",
    "gram_lines = load_lines(GRAMMATICAL_TXT)\n",
    "ungram_lines = load_lines(UNGRAMMATICAL_TXT)\n",
    "\n",
    "        "
   ]
  },
  {
   "cell_type": "code",
   "execution_count": 9,
   "metadata": {
    "collapsed": false
   },
   "outputs": [
    {
     "name": "stdout",
     "output_type": "stream",
     "text": [
      "Gram:\n",
      "Wir wissen, dass ein Zwang den Erzeuger dem Kommissar auferlegt hat.\n",
      "Violations:\n"
     ]
    },
    {
     "ename": "IndexError",
     "evalue": "list index out of range",
     "output_type": "error",
     "traceback": [
      "\u001b[0;31m---------------------------------------------------------------------------\u001b[0m",
      "\u001b[0;31mIndexError\u001b[0m                                Traceback (most recent call last)",
      "\u001b[0;32m<ipython-input-9-4571c5943854>\u001b[0m in \u001b[0;36m<module>\u001b[0;34m()\u001b[0m\n\u001b[1;32m      3\u001b[0m \u001b[0mprint\u001b[0m\u001b[0;34m(\u001b[0m\u001b[0mgram_lines\u001b[0m\u001b[0;34m[\u001b[0m\u001b[0midx\u001b[0m\u001b[0;34m]\u001b[0m\u001b[0;34m)\u001b[0m\u001b[0;34m\u001b[0m\u001b[0;34m\u001b[0m\u001b[0m\n\u001b[1;32m      4\u001b[0m \u001b[0mprint\u001b[0m\u001b[0;34m(\u001b[0m\u001b[0;34m\"Violations:\"\u001b[0m\u001b[0;34m)\u001b[0m\u001b[0;34m\u001b[0m\u001b[0;34m\u001b[0m\u001b[0m\n\u001b[0;32m----> 5\u001b[0;31m \u001b[0mprint\u001b[0m\u001b[0;34m(\u001b[0m\u001b[0;34m\"\\n\"\u001b[0m\u001b[0;34m.\u001b[0m\u001b[0mjoin\u001b[0m\u001b[0;34m(\u001b[0m\u001b[0;34m[\u001b[0m\u001b[0mungram_lines\u001b[0m\u001b[0;34m[\u001b[0m\u001b[0mi\u001b[0m\u001b[0;34m]\u001b[0m \u001b[0;32mfor\u001b[0m \u001b[0mi\u001b[0m \u001b[0;32min\u001b[0m \u001b[0mget_all_violations\u001b[0m\u001b[0;34m(\u001b[0m\u001b[0midx\u001b[0m\u001b[0;34m)\u001b[0m\u001b[0;34m]\u001b[0m\u001b[0;34m)\u001b[0m\u001b[0;34m)\u001b[0m\u001b[0;34m\u001b[0m\u001b[0;34m\u001b[0m\u001b[0m\n\u001b[0m",
      "\u001b[0;32m<ipython-input-9-4571c5943854>\u001b[0m in \u001b[0;36m<listcomp>\u001b[0;34m(.0)\u001b[0m\n\u001b[1;32m      3\u001b[0m \u001b[0mprint\u001b[0m\u001b[0;34m(\u001b[0m\u001b[0mgram_lines\u001b[0m\u001b[0;34m[\u001b[0m\u001b[0midx\u001b[0m\u001b[0;34m]\u001b[0m\u001b[0;34m)\u001b[0m\u001b[0;34m\u001b[0m\u001b[0;34m\u001b[0m\u001b[0m\n\u001b[1;32m      4\u001b[0m \u001b[0mprint\u001b[0m\u001b[0;34m(\u001b[0m\u001b[0;34m\"Violations:\"\u001b[0m\u001b[0;34m)\u001b[0m\u001b[0;34m\u001b[0m\u001b[0;34m\u001b[0m\u001b[0m\n\u001b[0;32m----> 5\u001b[0;31m \u001b[0mprint\u001b[0m\u001b[0;34m(\u001b[0m\u001b[0;34m\"\\n\"\u001b[0m\u001b[0;34m.\u001b[0m\u001b[0mjoin\u001b[0m\u001b[0;34m(\u001b[0m\u001b[0;34m[\u001b[0m\u001b[0mungram_lines\u001b[0m\u001b[0;34m[\u001b[0m\u001b[0mi\u001b[0m\u001b[0;34m]\u001b[0m \u001b[0;32mfor\u001b[0m \u001b[0mi\u001b[0m \u001b[0;32min\u001b[0m \u001b[0mget_all_violations\u001b[0m\u001b[0;34m(\u001b[0m\u001b[0midx\u001b[0m\u001b[0;34m)\u001b[0m\u001b[0;34m]\u001b[0m\u001b[0;34m)\u001b[0m\u001b[0;34m)\u001b[0m\u001b[0;34m\u001b[0m\u001b[0;34m\u001b[0m\u001b[0m\n\u001b[0m",
      "\u001b[0;31mIndexError\u001b[0m: list index out of range"
     ]
    }
   ],
   "source": [
    "idx = 1799\n",
    "print(\"Gram:\")\n",
    "print(gram_lines[idx])\n",
    "print(\"Violations:\")\n",
    "print(\"\\n\".join([ungram_lines[i] for i in get_all_violations(idx)]))\n"
   ]
  },
  {
   "cell_type": "code",
   "execution_count": 10,
   "metadata": {
    "collapsed": false
   },
   "outputs": [
    {
     "data": {
      "text/plain": [
       "'Wir wissen, dass der Mann seinen Bruder einem Schrank gegeben hat.'"
      ]
     },
     "execution_count": 10,
     "metadata": {},
     "output_type": "execute_result"
    }
   ],
   "source": [
    "gram_lines[0]"
   ]
  },
  {
   "cell_type": "markdown",
   "metadata": {},
   "source": [
    "## Load matrices of sentences indexes"
   ]
  },
  {
   "cell_type": "code",
   "execution_count": 11,
   "metadata": {
    "collapsed": true
   },
   "outputs": [],
   "source": [
    "def pickle_load(path):\n",
    "    with open(path, \"rb\") as fp:\n",
    "        loaded_file = pickle.load(fp)\n",
    "    return loaded_file"
   ]
  },
  {
   "cell_type": "code",
   "execution_count": 12,
   "metadata": {
    "collapsed": true
   },
   "outputs": [],
   "source": [
    "grammaticality = pickle_load(\"mTurk/mTurk_grammaticality_matrix.txt\") \n",
    "meaning = pickle_load(\"mTurk/mTurk_meaningfulness_matrix.txt\")"
   ]
  },
  {
   "cell_type": "markdown",
   "metadata": {},
   "source": [
    "## Results: Grammar"
   ]
  },
  {
   "cell_type": "markdown",
   "metadata": {},
   "source": [
    "### Get scores: 1 vs 6"
   ]
  },
  {
   "cell_type": "code",
   "execution_count": 13,
   "metadata": {
    "collapsed": false,
    "scrolled": false
   },
   "outputs": [],
   "source": [
    "grammar_base_path = \"/Users/charlotterochereau/Documents/Stage_ENS/mTurk/mTurk_results/mTurk_grammar_results/\"\n",
    "meaning_base_path = \"/Users/charlotterochereau/Documents/Stage_ENS/mTurk/mTurk_results/mTurk_meaning_results/\"\n",
    "\n",
    "ANS_COLS_GRAM = ([f'Q1_{i}'for i in range(1, 11)] + [f'Q2_{i}' for i in range(2, 12)] + \n",
    "                 [f'Q3_{i}' for i in range(2, 12)] + [f'Q8_{i}' for i in range(1, 11)] +\n",
    "                 [f'Q9_{i}' for i in range(2, 12)])\n",
    "\n",
    "MEANING_COLS_GRAM = ([f'Q1_{i}' for i in range(1, 11)] + [f'Q2_{i}' for i in range(1, 11)] + \n",
    "                [f'Q3_{i}' for i in range(1, 11)] + [f'Q1_{i}.1' for i in range(1, 11)] +\n",
    "                 [f'Q2_{i}' for i in range(2, 12)])\n",
    "\n",
    "def gram_grades_per_person(path):\n",
    "    ranks = pd.read_csv(path)\n",
    "    ranks = ranks[ANS_COLS_GRAM]\n",
    "    return ranks.iloc[-1]\n",
    "\n",
    "def meaning_grades_per_person(path):\n",
    "    ranks = pd.read_csv(path)\n",
    "    ranks = ranks[MEANING_COLS_GRAM]\n",
    "    return ranks.iloc[-1]\n",
    "\n",
    "def get_all_gram_grades(base_path):\n",
    "    all_ranks = []\n",
    "    for filename in glob.glob(base_path + \"Grammar_*.csv\"):\n",
    "        idx = int(filename.split('/')[-1].split('.')[0].split('_')[1])\n",
    "        ind_ranks = gram_grades_per_person(filename)\n",
    "        ind_ranks['ind'] = idx\n",
    "        all_ranks.append(ind_ranks)\n",
    "    all_ranks = pd.concat(all_ranks, axis=1)\n",
    "    all_ranks.columns = all_ranks.iloc[-1]\n",
    "    all_ranks.drop(\"ind\", axis=0, inplace=True)\n",
    "    all_ranks = all_ranks.astype(int)\n",
    "    return all_ranks\n",
    "\n",
    "def get_all_meaning_grades(base_path):\n",
    "    all_ranks = []\n",
    "    for filename in glob.glob(base_path + \"Meaning_*.csv\"):\n",
    "        \"\"\"\n",
    "        if any(str(i) + \".csv\" in filename for i in meaning_issues):\n",
    "            print(f\"Skipping {filename}\")\n",
    "            continue\n",
    "        \"\"\"\n",
    "        idx = int(filename.split('/')[-1].split('.')[0].split('_')[1])\n",
    "        ind_ranks = meaning_grades_per_person(filename)\n",
    "        ind_ranks['ind'] = idx\n",
    "        all_ranks.append(ind_ranks)\n",
    "    all_ranks = pd.concat(all_ranks, axis=1)\n",
    "    all_ranks.columns = all_ranks.iloc[-1]\n",
    "    all_ranks.drop(\"ind\", axis=0, inplace=True)\n",
    "    all_ranks = all_ranks.astype(int)\n",
    "    return all_ranks\n",
    "\n",
    "        \n",
    "all_gram_grades = get_all_gram_grades(grammar_base_path)\n",
    "all_meaning_grades = get_all_meaning_grades(meaning_base_path)\n",
    "    "
   ]
  },
  {
   "cell_type": "code",
   "execution_count": 14,
   "metadata": {
    "collapsed": false
   },
   "outputs": [],
   "source": [
    "cols_all_gram = all_gram_grades.columns\n",
    "rated_columns = [i-1 for i in cols_all_gram.astype(int)]\n",
    "grades = {}\n",
    "for col_name, col_gram in zip(cols_all_gram, rated_columns):\n",
    "    for idx, rating in zip(grammaticality[:, col_gram], all_gram_grades[col_name]):\n",
    "        grades[idx] = rating\n"
   ]
  },
  {
   "cell_type": "code",
   "execution_count": 15,
   "metadata": {
    "collapsed": false
   },
   "outputs": [],
   "source": [
    "path_LSTM_grammatical = \"results/LSTM_results/LSTM_gram_probs.txt\"\n",
    "path_LSTM_ungrammatical = \"results/LSTM_results/LSTM_ungram_probs.txt\""
   ]
  },
  {
   "cell_type": "code",
   "execution_count": 16,
   "metadata": {
    "collapsed": false
   },
   "outputs": [],
   "source": [
    "def pickle_load(path):\n",
    "    with open(path, \"rb\") as fp:\n",
    "        loaded_file = pickle.load(fp)\n",
    "    return loaded_file"
   ]
  },
  {
   "cell_type": "code",
   "execution_count": 17,
   "metadata": {
    "collapsed": false
   },
   "outputs": [],
   "source": [
    "def all_model_res(gram_path, ungram_path):\n",
    "    gram = pickle_load(gram_path)\n",
    "    ungram = pickle_load(ungram_path)\n",
    "    all_res = np.concatenate([gram, ungram])\n",
    "    return {i: s for i, s in enumerate(all_res)}\n",
    "    \n",
    "lstm_grades = all_model_res(path_LSTM_grammatical, path_LSTM_ungrammatical)"
   ]
  },
  {
   "cell_type": "code",
   "execution_count": 18,
   "metadata": {
    "collapsed": false
   },
   "outputs": [],
   "source": [
    "def aucs_per_grammatical_variant(mapping):\n",
    "    aucs = [[] for _ in range(36)]\n",
    "    for idx, rating in mapping.items():\n",
    "        if idx <= 1799:\n",
    "            violations = get_all_violations(idx)\n",
    "            ungrammatical_ratings = [mapping[v] for v in violations if v in mapping]\n",
    "            if ungrammatical_ratings:\n",
    "                labels = [1] + [0]*len(ungrammatical_ratings)\n",
    "                preds = [rating] + ungrammatical_ratings\n",
    "\n",
    "                score = roc_auc_score(labels, preds)\n",
    "                aucs[idx % 36].append(score) \n",
    "    return aucs"
   ]
  },
  {
   "cell_type": "code",
   "execution_count": 19,
   "metadata": {
    "collapsed": false
   },
   "outputs": [],
   "source": [
    "lstm_aucs = aucs_per_grammatical_variant(lstm_grades)\n",
    "\n",
    "lstm_moy = np.array([np.array(a).mean() for a in lstm_aucs])"
   ]
  },
  {
   "cell_type": "code",
   "execution_count": 20,
   "metadata": {
    "collapsed": false
   },
   "outputs": [],
   "source": [
    "human_aucs = aucs_per_grammatical_variant(grades)\n",
    "\n",
    "human_moy = np.array([np.array(a).mean() for a in human_aucs])"
   ]
  },
  {
   "cell_type": "code",
   "execution_count": 21,
   "metadata": {
    "collapsed": true
   },
   "outputs": [
    {
     "data": {
      "text/plain": [
       "array([ 0.73      ,  0.73333333,  0.31      ,  0.31666667,  0.68      ,\n",
       "        0.51666667,  0.89666667,  0.87333333,  0.74666667,  0.71333333,\n",
       "        0.41333333,  0.39      ,  0.28333333,  0.29333333,  0.71      ,\n",
       "        0.74333333,  0.44      ,  0.72      ,  0.33      ,  0.31      ,\n",
       "        0.48666667,  0.69333333,  0.8       ,  0.82666667,  0.74666667,\n",
       "        0.60666667,  0.91333333,  0.85      ,  0.38      ,  0.45666667,\n",
       "        0.50333333,  0.69333333,  0.36333333,  0.39666667,  0.84      ,\n",
       "        0.78333333])"
      ]
     },
     "execution_count": 21,
     "metadata": {},
     "output_type": "execute_result"
    }
   ],
   "source": [
    "lstm_moy"
   ]
  },
  {
   "cell_type": "code",
   "execution_count": 22,
   "metadata": {
    "collapsed": true
   },
   "outputs": [
    {
     "data": {
      "text/plain": [
       "array([ 0.6328125 ,  0.61931818,  0.64583333,  0.64880952,  0.47708333,\n",
       "        0.65416667,  0.8872549 ,  0.82638889,  0.79166667,  0.54545455,\n",
       "        0.67105263,  0.57826087,  0.45394737,  0.45      ,  0.54473684,\n",
       "        0.63888889,  0.6127451 ,  0.61041667,  0.35490196,  0.51296296,\n",
       "        0.45833333,  0.56666667,  0.49861111,  0.57291667,  0.7578125 ,\n",
       "        0.48825758,  0.91666667,  0.72303922,  0.63903509,  0.73333333,\n",
       "        0.39460784,  0.56578947,  0.49722222,  0.47631579,  0.61413043,\n",
       "        0.65588235])"
      ]
     },
     "execution_count": 22,
     "metadata": {},
     "output_type": "execute_result"
    }
   ],
   "source": [
    "human_moy"
   ]
  },
  {
   "cell_type": "code",
   "execution_count": 23,
   "metadata": {
    "collapsed": true
   },
   "outputs": [],
   "source": [
    "%matplotlib inline"
   ]
  },
  {
   "cell_type": "code",
   "execution_count": 24,
   "metadata": {
    "collapsed": false
   },
   "outputs": [
    {
     "data": {
      "text/plain": [
       "<matplotlib.collections.PathCollection at 0x10f9b2278>"
      ]
     },
     "execution_count": 24,
     "metadata": {},
     "output_type": "execute_result"
    },
    {
     "data": {
      "image/png": "[encoded data removed]",
      "text/plain": [
       "<matplotlib.figure.Figure at 0x10f9b2e80>"
      ]
     },
     "metadata": {},
     "output_type": "display_data"
    }
   ],
   "source": [
    "x = list(range(1, 37))\n",
    "from matplotlib import pyplot as plt\n",
    "plt.scatter(x, lstm_moy, color=\"red\")\n",
    "plt.scatter(x, human_moy, color=\"blue\")"
   ]
  },
  {
   "cell_type": "code",
   "execution_count": 25,
   "metadata": {
    "collapsed": false
   },
   "outputs": [
    {
     "data": {
      "text/plain": [
       "<matplotlib.collections.PathCollection at 0x10f5970b8>"
      ]
     },
     "execution_count": 25,
     "metadata": {},
     "output_type": "execute_result"
    },
    {
     "data": {
      "image/png": "[encoded data removed]",
      "text/plain": [
       "<matplotlib.figure.Figure at 0x112e8cef0>"
      ]
     },
     "metadata": {},
     "output_type": "display_data"
    }
   ],
   "source": [
    "sorter = np.argsort(human_moy)\n",
    "plt.scatter(x, lstm_moy[sorter], color=\"red\")\n",
    "plt.scatter(x, human_moy[sorter], color=\"blue\")"
   ]
  },
  {
   "cell_type": "code",
   "execution_count": 26,
   "metadata": {
    "collapsed": false
   },
   "outputs": [
    {
     "name": "stdout",
     "output_type": "stream",
     "text": [
      "lstm average: 0.597\n",
      "human average: 0.603\n"
     ]
    }
   ],
   "source": [
    "print(\"lstm average:\", round(np.mean(lstm_moy),3))\n",
    "print(\"human average:\", round(np.mean(human_moy),3))"
   ]
  },
  {
   "cell_type": "code",
   "execution_count": 27,
   "metadata": {
    "collapsed": false
   },
   "outputs": [
    {
     "name": "stdout",
     "output_type": "stream",
     "text": [
      "lstm std: 0.2\n",
      "human std: 0.13\n"
     ]
    }
   ],
   "source": [
    "print(\"lstm std:\", round(np.std(lstm_moy),2))\n",
    "print(\"human std:\",round(np.std(human_moy),2))"
   ]
  },
  {
   "cell_type": "code",
   "execution_count": 28,
   "metadata": {
    "collapsed": false
   },
   "outputs": [
    {
     "data": {
      "text/plain": [
       "array([[ 1.        ,  0.53135119],\n",
       "       [ 0.53135119,  1.        ]])"
      ]
     },
     "execution_count": 28,
     "metadata": {},
     "output_type": "execute_result"
    }
   ],
   "source": [
    "np.corrcoef(lstm_moy, human_moy)"
   ]
  },
  {
   "cell_type": "code",
   "execution_count": 74,
   "metadata": {
    "collapsed": false,
    "scrolled": true
   },
   "outputs": [
    {
     "name": "stdout",
     "output_type": "stream",
     "text": [
      "Fonction canonique, ordre canonique\n",
      "LSTM: 0.88\n",
      "Human: 0.84 \n",
      "\n",
      "Fonction non canonique, ordre canonique\n",
      "LSTM: 0.77\n",
      "Human: 0.6 \n",
      "\n",
      "Fonction canonique, ordre non canonique\n",
      "LSTM: 0.56\n",
      "Human: 0.65 \n",
      "\n",
      "Fonction non canonique, ordre non canonique\n",
      "LSTM: 0.46\n",
      "Human: 0.52 \n",
      "\n",
      "Total LSTM: 0.597\n",
      "Total Human: 0.603\n"
     ]
    }
   ],
   "source": [
    "idx_0 = [6,7,26,27]\n",
    "idx_1 = [0, 1, 14, 15, 22, 23, 34, 35]\n",
    "idx_2 = [8,9,10,11,24,25,28,29]\n",
    "idx_3 = [i for i in range(36) if i not in (idx_0 + idx_1 + idx_2)]\n",
    "\n",
    "print(\"Fonction canonique, ordre canonique\")\n",
    "print(\"LSTM:\", round(lstm_moy[[i for i in idx_0]].mean(),2))\n",
    "print(\"Human:\", round(human_moy[[i for i in idx_0]].mean(),2), '\\n')\n",
    "\n",
    "print(\"Fonction non canonique, ordre canonique\")\n",
    "print(\"LSTM:\", round(lstm_moy[[i for i in idx_1]].mean(),2))\n",
    "print(\"Human:\", round(human_moy[[i for i in idx_1]].mean(),2), '\\n')\n",
    "\n",
    "print(\"Fonction canonique, ordre non canonique\")\n",
    "print(\"LSTM:\", round(lstm_moy[[i for i in idx_2]].mean(),2))\n",
    "print(\"Human:\", round(human_moy[[i for i in idx_2]].mean(),2), '\\n')\n",
    "\n",
    "print(\"Fonction non canonique, ordre non canonique\")\n",
    "print(\"LSTM:\", round(lstm_moy[[i for i in idx_3]].mean(),2))\n",
    "print(\"Human:\", round(human_moy[[i for i in idx_3]].mean(),2), '\\n')\n",
    "\n",
    "print(\"Total LSTM:\", round(lstm_moy[[i for i in (idx_0 + idx_1 + idx_2 + idx_3)]].mean(),3))\n",
    "print(\"Total Human:\", round(human_moy[[i for i in (idx_0 + idx_1 + idx_2 + idx_3)]].mean(),3))"
   ]
  },
  {
   "cell_type": "code",
   "execution_count": 90,
   "metadata": {
    "collapsed": false
   },
   "outputs": [
    {
     "name": "stdout",
     "output_type": "stream",
     "text": [
      "Fonction canonique, ordre canonique \n",
      "\n",
      "Most canonical order: Nom-Dat-Acc\n",
      "LSTM: 0.9\n",
      "Human: 0.9 \n",
      "\n",
      "LSTM: 0.91\n",
      "Human: 0.92 \n",
      "\n",
      "LSTM: 0.9\n",
      "Human: 0.89 \n",
      "\n",
      "Second canonical order: Nom-Acc-Dat\n",
      "LSTM: 0.86\n",
      "Human: 0.77 \n",
      "\n",
      "LSTM: 0.87\n",
      "Human: 0.83 \n",
      "\n",
      "LSTM: 0.85\n",
      "Human: 0.72 \n",
      "\n"
     ]
    }
   ],
   "source": [
    "print(\"Fonction canonique, ordre canonique\", '\\n')\n",
    "\n",
    "print(\"Most canonical order: Nom-Dat-Acc\")\n",
    "print(\"LSTM:\", round(lstm_moy[[6,26]].mean(),2))\n",
    "print(\"Human:\", round(human_moy[[6,26]].mean(),2), '\\n')\n",
    "\n",
    "# Cannot see a reason for the slight difference in score below. \n",
    "# Template sentence was #6. #26 might sometimes be slightly less meaningful.\n",
    "\n",
    "print(\"LSTM:\", round(lstm_moy[26].mean(),2))\n",
    "print(\"Human:\", round(human_moy[26].mean(),2), '\\n')\n",
    "\n",
    "print(\"LSTM:\", round(lstm_moy[6].mean(),2))\n",
    "print(\"Human:\", round(human_moy[6].mean(),2), '\\n')\n",
    "\n",
    "\n",
    "print(\"Second canonical order: Nom-Acc-Dat\")\n",
    "print(\"LSTM:\", round(lstm_moy[[7,27]].mean(),2))\n",
    "print(\"Human:\", round(human_moy[[7,27]].mean(),2), '\\n')\n",
    "\n",
    "# Like sentence #26, #27 is slightly less meaningful, which might account for the drop in result between #7 and #27.\n",
    "# Ex: le patient prescrit un vaccin au médecin, au lieu de l'inverse.\n",
    "print(\"LSTM:\", round(lstm_moy[7].mean(),2))\n",
    "print(\"Human:\", round(human_moy[7].mean(),2), '\\n')\n",
    "\n",
    "print(\"LSTM:\", round(lstm_moy[27].mean(),2))\n",
    "print(\"Human:\", round(human_moy[27].mean(),2), '\\n')"
   ]
  },
  {
   "cell_type": "code",
   "execution_count": 78,
   "metadata": {
    "collapsed": false
   },
   "outputs": [
    {
     "name": "stdout",
     "output_type": "stream",
     "text": [
      "Subordonnée commence par Nominatif\n",
      "LSTM: 0.81\n",
      "Human: 0.68 \n",
      "\n",
      "Subordonnée commence par Accusatif\n",
      "LSTM: 0.35\n",
      "Human: 0.56 \n",
      "\n",
      "Subordonnée commence par Datif\n",
      "LSTM: 0.63\n",
      "Human: 0.58 \n",
      "\n",
      "Total LSTM: 0.597\n",
      "Total Human: 0.603\n"
     ]
    }
   ],
   "source": [
    "idx_4 = [0,1,6,7,14,15,22,23,26,27,34,35]\n",
    "idx_5 = [2,3,10,11,12,13,18,19,28,29,32,33]\n",
    "idx_6 = [i for i in range(36) if i not in (idx_4 + idx_5)]\n",
    "\n",
    "print(\"Subordonnée commence par Nominatif\")\n",
    "print(\"LSTM:\", round(lstm_moy[[i for i in idx_4]].mean(),2))\n",
    "print(\"Human:\", round(human_moy[[i for i in idx_4]].mean(),2), '\\n')\n",
    "\n",
    "print(\"Subordonnée commence par Accusatif\")\n",
    "print(\"LSTM:\", round(lstm_moy[[i for i in idx_5]].mean(),2))\n",
    "print(\"Human:\", round(human_moy[[i for i in idx_5]].mean(),2), '\\n')\n",
    "\n",
    "print(\"Subordonnée commence par Datif\")\n",
    "print(\"LSTM:\", round(lstm_moy[[i for i in idx_6]].mean(),2))\n",
    "print(\"Human:\", round(human_moy[[i for i in idx_6]].mean(),2), '\\n')\n",
    "\n",
    "print(\"Total LSTM:\", round(lstm_moy[[i for i in (idx_4 + idx_5 + idx_6)]].mean(),3))\n",
    "print(\"Total Human:\", round(human_moy[[i for i in (idx_4 + idx_5 + idx_6)]].mean(),3))"
   ]
  },
  {
   "cell_type": "code",
   "execution_count": 102,
   "metadata": {
    "collapsed": false
   },
   "outputs": [
    {
     "name": "stdout",
     "output_type": "stream",
     "text": [
      "Nominatif Animé\n",
      "LSTM: 0.6\n",
      "Human: 0.65 \n",
      "\n",
      "Nominatif Inanimé\n",
      "LSTM: 0.59\n",
      "Human: 0.51 \n",
      "\n",
      "Accusatif Animé\n",
      "LSTM: 0.56\n",
      "Human: 0.55 \n",
      "\n",
      "Accusatif Inanimé\n",
      "LSTM: 0.67\n",
      "Human: 0.71 \n",
      "\n",
      "Datif Animé\n",
      "LSTM: 0.63\n",
      "Human: 0.61 \n",
      "\n",
      "Datif Inanimé\n",
      "LSTM: 0.54\n",
      "Human: 0.58 \n",
      "\n"
     ]
    }
   ],
   "source": [
    "idx_7 = [18,19,20,21,22,23,30,31,32,33,34,35]\n",
    "idx_8 = [6,7,8,9,10,11,24,25,26,27,28,29]\n",
    "idx_9 = [0,1,2,3,4,5,12,13,14,15,16,17]\n",
    "\n",
    "### Attention: limiter aux phrases concernées\n",
    "\n",
    "print(\"Nominatif Animé\")\n",
    "print(\"LSTM:\", round(lstm_moy[[i for i in range(36) if i not in idx_7]].mean(),2))\n",
    "print(\"Human:\", round(human_moy[[i for i in range(36) if i not in idx_7]].mean(),2), '\\n')\n",
    "\n",
    "print(\"Nominatif Inanimé\")\n",
    "print(\"LSTM:\", round(lstm_moy[[i for i in idx_7]].mean(),2))\n",
    "print(\"Human:\", round(human_moy[[i for i in idx_7]].mean(),2), '\\n')\n",
    "\n",
    "# Conclusion nominatif: Préférence lstm et humains pour nominatif animé\n",
    "\n",
    "print(\"Accusatif Animé\")\n",
    "print(\"LSTM:\", round(lstm_moy[[i for i in range(36) if i not in idx_8]].mean(),2))\n",
    "print(\"Human:\", round(human_moy[[i for i in range(36) if i not in idx_8]].mean(),2), '\\n')\n",
    "\n",
    "print(\"Accusatif Inanimé\")\n",
    "print(\"LSTM:\", round(lstm_moy[[i for i in idx_8]].mean(),2))\n",
    "print(\"Human:\", round(human_moy[[i for i in idx_8]].mean(),2), '\\n')\n",
    "\n",
    "# Conclusion accusatif: Préférence lstm et humains pour accusatif inanimé\n",
    "\n",
    "print(\"Datif Animé\")\n",
    "print(\"LSTM:\", round(lstm_moy[[i for i in range(36) if i not in idx_9]].mean(),2))\n",
    "print(\"Human:\", round(human_moy[[i for i in range(36) if i not in idx_9]].mean(),2), '\\n')\n",
    "\n",
    "print(\"Datif Inanimé\")\n",
    "print(\"LSTM:\", round(lstm_moy[[i for i in idx_9]].mean(),2))\n",
    "print(\"Human:\", round(human_moy[[i for i in idx_9]].mean(),2), '\\n')\n",
    " # Conclusion datif"
   ]
  },
  {
   "cell_type": "markdown",
   "metadata": {},
   "source": [
    "### Conclusion animacy / inanimacy:\n",
    "\n",
    "#### Attention: 10 templates (1/5) sont à exclure de l'analyse présente -> à paufiner\n",
    "- lstm et humains (surtout) préfèrent le nominatif animé\n",
    "- lstm et humains (surtout) préfèrent l'accusatif inanimé\n",
    "- lstm (surtout) et humains préfèrent le datif animé"
   ]
  },
  {
   "cell_type": "code",
   "execution_count": null,
   "metadata": {
    "collapsed": true
   },
   "outputs": [],
   "source": []
  }
 ],
 "metadata": {
  "kernelspec": {
   "display_name": "Python 3",
   "language": "python",
   "name": "python3"
  },
  "language_info": {
   "codemirror_mode": {
    "name": "ipython",
    "version": 3
   },
   "file_extension": ".py",
   "mimetype": "text/x-python",
   "name": "python",
   "nbconvert_exporter": "python",
   "pygments_lexer": "ipython3",
   "version": "3.6.8"
  }
 },
 "nbformat": 4,
 "nbformat_minor": 2
}
