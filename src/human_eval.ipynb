{
 "cells": [
  {
   "cell_type": "code",
   "execution_count": 1,
   "metadata": {
    "collapsed": false
   },
   "outputs": [],
   "source": [
    "import csv\n",
    "import numpy as np\n",
    "import pandas as pd\n",
    "\n",
    "from collections import Counter\n",
    "from matplotlib import pyplot\n",
    "from scipy import stats\n",
    "from sklearn.metrics import roc_auc_score\n",
    "# from tabulate import tabulate\n"
   ]
  },
  {
   "cell_type": "code",
   "execution_count": 2,
   "metadata": {
    "collapsed": false
   },
   "outputs": [],
   "source": [
    "pd.options.display.max_colwidth= 100\n"
   ]
  },
  {
   "cell_type": "code",
   "execution_count": 3,
   "metadata": {
    "collapsed": false
   },
   "outputs": [
    {
     "data": {
      "text/html": [
       "<div>\n",
       "<table border=\"1\" class=\"dataframe\">\n",
       "  <thead>\n",
       "    <tr style=\"text-align: right;\">\n",
       "      <th></th>\n",
       "      <th>index</th>\n",
       "      <th>animated</th>\n",
       "      <th>cases</th>\n",
       "      <th>grammatical</th>\n",
       "      <th>positions</th>\n",
       "      <th>sentence</th>\n",
       "      <th>template</th>\n",
       "    </tr>\n",
       "  </thead>\n",
       "  <tbody>\n",
       "    <tr>\n",
       "      <th>0</th>\n",
       "      <td>0</td>\n",
       "      <td>False</td>\n",
       "      <td>NDA</td>\n",
       "      <td>True</td>\n",
       "      <td>123</td>\n",
       "      <td>Es steht fest, dass der Polizist dem Fahrer den Führerschein abnimmt.</td>\n",
       "      <td>0</td>\n",
       "    </tr>\n",
       "    <tr>\n",
       "      <th>1</th>\n",
       "      <td>1</td>\n",
       "      <td>False</td>\n",
       "      <td>NAD</td>\n",
       "      <td>True</td>\n",
       "      <td>123</td>\n",
       "      <td>Es steht fest, dass der Polizist den Fahrer dem Führerschein abnimmt.</td>\n",
       "      <td>0</td>\n",
       "    </tr>\n",
       "    <tr>\n",
       "      <th>2</th>\n",
       "      <td>2</td>\n",
       "      <td>False</td>\n",
       "      <td>DNA</td>\n",
       "      <td>True</td>\n",
       "      <td>123</td>\n",
       "      <td>Es steht fest, dass dem Polizisten der Fahrer den Führerschein abnimmt.</td>\n",
       "      <td>0</td>\n",
       "    </tr>\n",
       "    <tr>\n",
       "      <th>3</th>\n",
       "      <td>3</td>\n",
       "      <td>False</td>\n",
       "      <td>DAN</td>\n",
       "      <td>True</td>\n",
       "      <td>123</td>\n",
       "      <td>Es steht fest, dass dem Polizisten den Fahrer der Führerschein abnimmt.</td>\n",
       "      <td>0</td>\n",
       "    </tr>\n",
       "    <tr>\n",
       "      <th>4</th>\n",
       "      <td>4</td>\n",
       "      <td>False</td>\n",
       "      <td>AND</td>\n",
       "      <td>True</td>\n",
       "      <td>123</td>\n",
       "      <td>Es steht fest, dass den Polizisten der Fahrer dem Führerschein abnimmt.</td>\n",
       "      <td>0</td>\n",
       "    </tr>\n",
       "  </tbody>\n",
       "</table>\n",
       "</div>"
      ],
      "text/plain": [
       "   index animated cases grammatical  positions  \\\n",
       "0      0    False   NDA        True        123   \n",
       "1      1    False   NAD        True        123   \n",
       "2      2    False   DNA        True        123   \n",
       "3      3    False   DAN        True        123   \n",
       "4      4    False   AND        True        123   \n",
       "\n",
       "                                                                  sentence  \\\n",
       "0    Es steht fest, dass der Polizist dem Fahrer den Führerschein abnimmt.   \n",
       "1    Es steht fest, dass der Polizist den Fahrer dem Führerschein abnimmt.   \n",
       "2  Es steht fest, dass dem Polizisten der Fahrer den Führerschein abnimmt.   \n",
       "3  Es steht fest, dass dem Polizisten den Fahrer der Führerschein abnimmt.   \n",
       "4  Es steht fest, dass den Polizisten der Fahrer dem Führerschein abnimmt.   \n",
       "\n",
       "   template  \n",
       "0         0  \n",
       "1         0  \n",
       "2         0  \n",
       "3         0  \n",
       "4         0  "
      ]
     },
     "execution_count": 3,
     "metadata": {},
     "output_type": "execute_result"
    }
   ],
   "source": [
    "dataset = pd.read_csv(\"data/dataset.csv\", index_col=0)\n",
    "dataset = dataset.reset_index(0)\n",
    "dataset.head()"
   ]
  },
  {
   "cell_type": "code",
   "execution_count": 13,
   "metadata": {
    "collapsed": false
   },
   "outputs": [
    {
     "name": "stderr",
     "output_type": "stream",
     "text": [
      "/Users/charlotterochereau/anaconda3/lib/python3.6/site-packages/IPython/core/interactiveshell.py:2717: DtypeWarning: Columns (13) have mixed types. Specify dtype option on import or set low_memory=False.\n",
      "  interactivity=interactivity, compiler=compiler, result=result)\n"
     ]
    }
   ],
   "source": [
    "pcibex = pd.read_csv(\"data/pcibex_df_all_june22.csv\")\n",
    "pcibex.Name = pcibex.Name.astype(str)"
   ]
  },
  {
   "cell_type": "markdown",
   "metadata": {},
   "source": [
    "### Fillers analyses"
   ]
  },
  {
   "cell_type": "code",
   "execution_count": 14,
   "metadata": {
    "collapsed": false
   },
   "outputs": [],
   "source": [
    "grammatical_idx = dataset[dataset['grammatical']==True].index\n",
    "ungrammatical_idx = dataset[dataset['grammatical']==False].index"
   ]
  },
  {
   "cell_type": "code",
   "execution_count": 15,
   "metadata": {
    "collapsed": false
   },
   "outputs": [],
   "source": [
    "fillers = pd.read_csv(\"data/fillers.csv\")\n",
    "\n",
    "is_exp = pcibex['Type']==\"experiment\"\n",
    "is_choice = pcibex['Parameter']==\"Choice\"\n",
    "is_filler = pcibex['Index']>9999\n",
    "is_not_filler = pcibex['Index']<10000\n",
    "\n",
    "\n",
    "filler_responses = pcibex[is_exp & is_choice & is_filler]\n",
    "fillers_only = filler_responses.copy()\n",
    "fillers_only.Value = fillers_only.Value.astype(int)\n",
    "fillers_only.Index = fillers_only.Index.astype(int)\n",
    "fillers_only.Name = fillers_only.Name.astype(str)\n",
    "\n",
    "is_w = (fillers_only[\"Index\"]>999) & (fillers_only[\"Index\"] < 10010)\n",
    "is_m = (fillers_only[\"Index\"]>1009) & (fillers_only[\"Index\"] < 10015)\n",
    "is_r = fillers_only[\"Index\"]>10014\n",
    "all_names = fillers_only.Name.unique()"
   ]
  },
  {
   "cell_type": "code",
   "execution_count": 16,
   "metadata": {
    "collapsed": false
   },
   "outputs": [],
   "source": [
    "# Pass/fail test based on fillers\n",
    "failed = []\n",
    "passed = []\n",
    "counter_eval_fail = 0\n",
    "counter2 = 0\n",
    "\n",
    "for name in all_names:\n",
    "\n",
    "    is_pcibex_name = pcibex['Name']==name\n",
    "    is_name = fillers_only['Name']==name\n",
    "    r_mean = fillers_only[is_name & is_r].Value.mean()\n",
    "    w_mean = fillers_only[is_name & is_w].Value.mean()\n",
    "    m_mean = fillers_only[is_name & is_m].Value.mean()\n",
    "\n",
    "    t, p = stats.ttest_ind(fillers_only[is_name & is_r].Value, fillers_only[is_name & is_w].Value, equal_var=False)\n",
    "    # testing if mean of correct fillers is statistically larger than mean of incorrect fillers\n",
    "    \"\"\"\n",
    "    if (p > 0.05) or (w_mean > r_mean) or (w_mean > m_mean):\n",
    "        failed.append(name)\n",
    "        counter_failed += 1\n",
    "    else:\n",
    "        passed.append(name)\n",
    "        counter_passed += 1\n",
    "    \"\"\" \n",
    "    # filler test\n",
    "    if (p <= 0.05) and (t > 0):\n",
    "        passed.append(name)\n",
    "        filler_test = 'pass'\n",
    "    else:\n",
    "        failed.append(name)\n",
    "        filler_test = 'fail'\n",
    "    \n",
    "    '''\n",
    "    # checking participant's results on dataset\n",
    "    \n",
    "    gram_stc = pcibex[is_answer & pcibex['Index'].isin(grammatical_idx) & is_pcibex_name].Value.astype(int)\n",
    "    ungram_stc = pcibex[is_answer & pcibex['Index'].isin(ungrammatical_idx) & is_pcibex_name].Value.astype(int)\n",
    "    gram_mean = gram_stc.mean()\n",
    "    ungram_mean = ungram_stc.mean()\n",
    "    t1, p1 = stats.ttest_ind(gram_stc, ungram_stc, equal_var=False)\n",
    "    \n",
    "    if (p1 <= 0.05) and (t1 > 0):\n",
    "        eval_test = \"pass\"\n",
    "    else:\n",
    "        eval_test = \"fail\"\n",
    "        counter_eval_fail+=1\n",
    "    \n",
    "    if (filler_test == 'fail') and (eval_test == \"pass\"):\n",
    "        counter2 += 1\n",
    "    \n",
    "    line = f'{name}, fillers:{filler_test}, gram mean = {round(gram_mean,2)}, ungram mean = {round(ungram_mean,2)}, eval:{eval_test}'\n",
    "    # print(line)\n",
    "    '''"
   ]
  },
  {
   "cell_type": "code",
   "execution_count": 17,
   "metadata": {
    "collapsed": false
   },
   "outputs": [
    {
     "name": "stdout",
     "output_type": "stream",
     "text": [
      "mean fillers 79.27\n",
      "87 passed\n",
      "54 failed\n",
      "0.6170212765957447 passed\n",
      "participated already 141\n"
     ]
    }
   ],
   "source": [
    "print(\"mean fillers\",round(fillers_only.Value.mean(),2))\n",
    "print(len(passed), 'passed')\n",
    "print(len(failed),'failed')\n",
    "print(len(passed)/(len(passed)+len(failed)), 'passed')\n",
    "print('participated already',len(passed)+len(failed))"
   ]
  },
  {
   "cell_type": "code",
   "execution_count": 18,
   "metadata": {
    "collapsed": true
   },
   "outputs": [],
   "source": [
    "# Select responses\n",
    "#is_pass = pcibex[\"Name\"].isin(passed)\n",
    "#is_answer = is_exp & is_choice & is_not_filler & is_pass\n",
    "is_answer = is_exp & is_choice & is_not_filler \n",
    "\n",
    "\"\"\"\n",
    "pcibex[is_answer][\"Group\"].unique()\n",
    "pcibex[is_answer].groupby('Group')['Group'].count()/216\n",
    "#for duplicated answers: pcibex[is_answer].groupby('Index')['Index'].count() - 3).clip(0).sum()/216\n",
    "\"\"\"\n",
    "answers_only = pcibex[is_answer].copy()\n",
    "answers_only.Value = answers_only.Value.astype(int)\n",
    "answers_only.Index = answers_only.Index.astype(int)\n",
    "answers_only.Group = answers_only.Group.astype(int)\n",
    "answers_only.Name = answers_only.Name.astype(str)"
   ]
  },
  {
   "cell_type": "code",
   "execution_count": 19,
   "metadata": {
    "collapsed": false
   },
   "outputs": [
    {
     "data": {
      "image/png": "[encoded data removed]",
      "text/plain": [
       "<matplotlib.figure.Figure at 0x111e3b390>"
      ]
     },
     "metadata": {},
     "output_type": "display_data"
    },
    {
     "data": {
      "image/png": "[encoded data removed]",
      "text/plain": [
       "<matplotlib.figure.Figure at 0x111c5b3c8>"
      ]
     },
     "metadata": {},
     "output_type": "display_data"
    },
    {
     "data": {
      "image/png": "[encoded data removed]",
      "text/plain": [
       "<matplotlib.figure.Figure at 0x111d41e48>"
      ]
     },
     "metadata": {},
     "output_type": "display_data"
    }
   ],
   "source": [
    "pyplot.hist(answers_only.Value, bins = 100, alpha=0.5, color=\"grey\", label='ratings')\n",
    "pyplot.legend(loc='upper right', prop={'size': 10})\n",
    "pyplot.title('all answers')\n",
    "pyplot.show()\n",
    "\n",
    "pyplot.hist(answers_only[answers_only['Name'].isin(failed)].Value, bins = 100, alpha=0.5, color=\"grey\", label='ratings')\n",
    "pyplot.legend(loc='upper right', prop={'size': 10})\n",
    "pyplot.title('failed')\n",
    "pyplot.show()\n",
    "\n",
    "pyplot.hist(answers_only[answers_only['Name'].isin(passed)].Value, bins = 100, alpha=0.5, color=\"grey\", label='ratings')\n",
    "pyplot.legend(loc='upper right', prop={'size': 10})\n",
    "pyplot.title('passed')\n",
    "pyplot.show()"
   ]
  },
  {
   "cell_type": "code",
   "execution_count": 20,
   "metadata": {
    "collapsed": false
   },
   "outputs": [],
   "source": [
    "# Normalize results\n",
    "rater_stats = answers_only.groupby('Name')['Value'].agg(['mean', 'std']).transpose()\n",
    "answers_only[\"Normalized Value\"] = [(rating - rater_stats[name][\"mean\"]) / rater_stats[name][\"std\"]  \n",
    "                                    for name, rating \n",
    "                                    in  zip(answers_only.Name, answers_only.Value)]"
   ]
  },
  {
   "cell_type": "code",
   "execution_count": 21,
   "metadata": {
    "collapsed": false
   },
   "outputs": [],
   "source": [
    "### data normalization\n",
    "answers_summary = answers_only.groupby('Index')['Normalized Value'].agg([\"mean\", \"count\",\"std\"])\n",
    "#answers_summary = answers_only.groupby('Index')['Value'].agg([\"mean\", \"count\",\"std\"])\n",
    "\n",
    "answers_summary = answers_summary.reset_index(0)\n",
    "\n",
    "data = pd.merge(left=dataset, right=answers_summary, left_on='index', right_on='Index')"
   ]
  },
  {
   "cell_type": "code",
   "execution_count": 79,
   "metadata": {
    "collapsed": false
   },
   "outputs": [
    {
     "data": {
      "text/plain": [
       "array(['1%2C083%2C617', '1862514'], dtype=object)"
      ]
     },
     "execution_count": 79,
     "metadata": {},
     "output_type": "execute_result"
    }
   ],
   "source": [
    "pcibex[pcibex['Group']==26].Name.unique()\n",
    "# group 39: no annotation!"
   ]
  },
  {
   "cell_type": "code",
   "execution_count": 77,
   "metadata": {
    "collapsed": false
   },
   "outputs": [
    {
     "name": "stdout",
     "output_type": "stream",
     "text": [
      "[ 1  2  3  7  8 11 12 13 14 15 16 17 18 19 20 21 22 23 24 25 26 27 28 29 30\n",
      " 31 32 33 34 35 36 37 38 39 40 42 45 46 47 48 50 51 52 53 56 57 58 59 61 63\n",
      " 64 67 68 69 72 73 74 75 76 77 79 80 82 83 84 85 88 89 90 91 93 96 98]\n"
     ]
    }
   ],
   "source": [
    "pci_dataset = pd.read_csv(\"data/pcibex2.csv\", index_col=0).reset_index('Sentence')\n",
    "mylist = [idx for idx in pci_dataset[pci_dataset['Group']==39].DatasetIndex if idx < 10000]\n",
    "print(pci_dataset.Group.unique())"
   ]
  },
  {
   "cell_type": "code",
   "execution_count": 75,
   "metadata": {
    "collapsed": false
   },
   "outputs": [
    {
     "name": "stdout",
     "output_type": "stream",
     "text": [
      "876    2\n",
      "Name: count, dtype: int64\n",
      "1021    2\n",
      "Name: count, dtype: int64\n",
      "1166    2\n",
      "Name: count, dtype: int64\n",
      "1311    2\n",
      "Name: count, dtype: int64\n",
      "1456    2\n",
      "Name: count, dtype: int64\n",
      "1601    2\n",
      "Name: count, dtype: int64\n",
      "1746    2\n",
      "Name: count, dtype: int64\n",
      "1891    2\n",
      "Name: count, dtype: int64\n",
      "2036    2\n",
      "Name: count, dtype: int64\n",
      "2181    2\n",
      "Name: count, dtype: int64\n",
      "2326    2\n",
      "Name: count, dtype: int64\n",
      "2471    2\n",
      "Name: count, dtype: int64\n",
      "2616    2\n",
      "Name: count, dtype: int64\n",
      "2761    2\n",
      "Name: count, dtype: int64\n",
      "2906    2\n",
      "Name: count, dtype: int64\n",
      "3051    2\n",
      "Name: count, dtype: int64\n",
      "3196    2\n",
      "Name: count, dtype: int64\n",
      "3341    2\n",
      "Name: count, dtype: int64\n",
      "3486    4\n",
      "Name: count, dtype: int64\n",
      "3631    4\n",
      "Name: count, dtype: int64\n",
      "3776    4\n",
      "Name: count, dtype: int64\n",
      "3921    4\n",
      "Name: count, dtype: int64\n",
      "4066    4\n",
      "Name: count, dtype: int64\n",
      "4211    4\n",
      "Name: count, dtype: int64\n",
      "4320    4\n",
      "Name: count, dtype: int64\n",
      "4465    4\n",
      "Name: count, dtype: int64\n",
      "4610    4\n",
      "Name: count, dtype: int64\n",
      "4755    4\n",
      "Name: count, dtype: int64\n",
      "4900    4\n",
      "Name: count, dtype: int64\n",
      "5045    4\n",
      "Name: count, dtype: int64\n",
      "5190    4\n",
      "Name: count, dtype: int64\n",
      "5335    4\n",
      "Name: count, dtype: int64\n",
      "5480    4\n",
      "Name: count, dtype: int64\n",
      "5625    4\n",
      "Name: count, dtype: int64\n",
      "5770    4\n",
      "Name: count, dtype: int64\n",
      "5915    4\n",
      "Name: count, dtype: int64\n",
      "6060    5\n",
      "Name: count, dtype: int64\n",
      "6205    5\n",
      "Name: count, dtype: int64\n",
      "6350    5\n",
      "Name: count, dtype: int64\n",
      "6495    5\n",
      "Name: count, dtype: int64\n",
      "6640    5\n",
      "Name: count, dtype: int64\n",
      "6785    5\n",
      "Name: count, dtype: int64\n",
      "6930    5\n",
      "Name: count, dtype: int64\n",
      "7075    5\n",
      "Name: count, dtype: int64\n",
      "7    5\n",
      "Name: count, dtype: int64\n",
      "152    5\n",
      "Name: count, dtype: int64\n",
      "297    5\n",
      "Name: count, dtype: int64\n",
      "442    5\n",
      "Name: count, dtype: int64\n",
      "587    5\n",
      "Name: count, dtype: int64\n",
      "732    5\n",
      "Name: count, dtype: int64\n",
      "877    5\n",
      "Name: count, dtype: int64\n",
      "1022    5\n",
      "Name: count, dtype: int64\n",
      "1167    5\n",
      "Name: count, dtype: int64\n",
      "1312    5\n",
      "Name: count, dtype: int64\n",
      "1516    2\n",
      "Name: count, dtype: int64\n",
      "1661    2\n",
      "Name: count, dtype: int64\n",
      "1818    2\n",
      "Name: count, dtype: int64\n",
      "1963    2\n",
      "Name: count, dtype: int64\n",
      "2108    2\n",
      "Name: count, dtype: int64\n",
      "2253    2\n",
      "Name: count, dtype: int64\n",
      "2398    2\n",
      "Name: count, dtype: int64\n",
      "2543    2\n",
      "Name: count, dtype: int64\n",
      "2700    2\n",
      "Name: count, dtype: int64\n",
      "2845    2\n",
      "Name: count, dtype: int64\n",
      "2990    2\n",
      "Name: count, dtype: int64\n",
      "3135    2\n",
      "Name: count, dtype: int64\n",
      "3280    2\n",
      "Name: count, dtype: int64\n",
      "3425    2\n",
      "Name: count, dtype: int64\n",
      "3582    2\n",
      "Name: count, dtype: int64\n",
      "3727    2\n",
      "Name: count, dtype: int64\n",
      "3872    2\n",
      "Name: count, dtype: int64\n",
      "4017    2\n",
      "Name: count, dtype: int64\n",
      "4162    4\n",
      "Name: count, dtype: int64\n",
      "4307    4\n",
      "Name: count, dtype: int64\n",
      "4356    4\n",
      "Name: count, dtype: int64\n",
      "4501    4\n",
      "Name: count, dtype: int64\n",
      "4646    4\n",
      "Name: count, dtype: int64\n",
      "4791    4\n",
      "Name: count, dtype: int64\n",
      "4936    4\n",
      "Name: count, dtype: int64\n",
      "5081    4\n",
      "Name: count, dtype: int64\n",
      "5238    4\n",
      "Name: count, dtype: int64\n",
      "5383    4\n",
      "Name: count, dtype: int64\n",
      "5528    4\n",
      "Name: count, dtype: int64\n",
      "5673    4\n",
      "Name: count, dtype: int64\n",
      "5818    4\n",
      "Name: count, dtype: int64\n",
      "5963    4\n",
      "Name: count, dtype: int64\n",
      "6120    4\n",
      "Name: count, dtype: int64\n",
      "6265    4\n",
      "Name: count, dtype: int64\n",
      "6410    4\n",
      "Name: count, dtype: int64\n",
      "6555    4\n",
      "Name: count, dtype: int64\n",
      "6700    5\n",
      "Name: count, dtype: int64\n",
      "6845    5\n",
      "Name: count, dtype: int64\n",
      "7002    5\n",
      "Name: count, dtype: int64\n",
      "7147    5\n",
      "Name: count, dtype: int64\n",
      "54    5\n",
      "Name: count, dtype: int64\n",
      "199    5\n",
      "Name: count, dtype: int64\n",
      "344    5\n",
      "Name: count, dtype: int64\n",
      "489    5\n",
      "Name: count, dtype: int64\n",
      "635    5\n",
      "Name: count, dtype: int64\n",
      "792    5\n",
      "Name: count, dtype: int64\n",
      "937    5\n",
      "Name: count, dtype: int64\n",
      "1082    5\n",
      "Name: count, dtype: int64\n",
      "1227    5\n",
      "Name: count, dtype: int64\n",
      "1372    5\n",
      "Name: count, dtype: int64\n",
      "1517    5\n",
      "Name: count, dtype: int64\n",
      "1674    5\n",
      "Name: count, dtype: int64\n",
      "1819    5\n",
      "Name: count, dtype: int64\n",
      "1964    5\n",
      "Name: count, dtype: int64\n",
      "2114    2\n",
      "Name: count, dtype: int64\n",
      "2259    2\n",
      "Name: count, dtype: int64\n",
      "2404    2\n",
      "Name: count, dtype: int64\n",
      "2549    2\n",
      "Name: count, dtype: int64\n",
      "2706    2\n",
      "Name: count, dtype: int64\n",
      "2851    2\n",
      "Name: count, dtype: int64\n",
      "2996    2\n",
      "Name: count, dtype: int64\n",
      "3141    2\n",
      "Name: count, dtype: int64\n",
      "3286    2\n",
      "Name: count, dtype: int64\n",
      "3431    2\n",
      "Name: count, dtype: int64\n",
      "3588    2\n",
      "Name: count, dtype: int64\n",
      "3733    2\n",
      "Name: count, dtype: int64\n",
      "3878    2\n",
      "Name: count, dtype: int64\n",
      "4023    2\n",
      "Name: count, dtype: int64\n",
      "4168    2\n",
      "Name: count, dtype: int64\n",
      "4313    2\n",
      "Name: count, dtype: int64\n",
      "4362    2\n",
      "Name: count, dtype: int64\n",
      "4507    2\n",
      "Name: count, dtype: int64\n",
      "4652    4\n",
      "Name: count, dtype: int64\n",
      "4797    4\n",
      "Name: count, dtype: int64\n",
      "4942    4\n",
      "Name: count, dtype: int64\n",
      "5087    4\n",
      "Name: count, dtype: int64\n",
      "5244    4\n",
      "Name: count, dtype: int64\n",
      "5389    4\n",
      "Name: count, dtype: int64\n",
      "5534    4\n",
      "Name: count, dtype: int64\n",
      "5679    4\n",
      "Name: count, dtype: int64\n",
      "5824    4\n",
      "Name: count, dtype: int64\n",
      "5969    4\n",
      "Name: count, dtype: int64\n",
      "6126    4\n",
      "Name: count, dtype: int64\n",
      "6271    4\n",
      "Name: count, dtype: int64\n",
      "6416    4\n",
      "Name: count, dtype: int64\n",
      "6561    4\n",
      "Name: count, dtype: int64\n",
      "6706    4\n",
      "Name: count, dtype: int64\n",
      "6851    4\n",
      "Name: count, dtype: int64\n",
      "7008    4\n",
      "Name: count, dtype: int64\n",
      "7153    4\n",
      "Name: count, dtype: int64\n",
      "60    5\n",
      "Name: count, dtype: int64\n",
      "205    5\n",
      "Name: count, dtype: int64\n",
      "350    5\n",
      "Name: count, dtype: int64\n",
      "495    5\n",
      "Name: count, dtype: int64\n",
      "640    5\n",
      "Name: count, dtype: int64\n",
      "785    5\n",
      "Name: count, dtype: int64\n",
      "942    5\n",
      "Name: count, dtype: int64\n",
      "1087    5\n",
      "Name: count, dtype: int64\n",
      "1233    5\n",
      "Name: count, dtype: int64\n",
      "1378    5\n",
      "Name: count, dtype: int64\n",
      "1523    5\n",
      "Name: count, dtype: int64\n",
      "1680    5\n",
      "Name: count, dtype: int64\n",
      "1825    5\n",
      "Name: count, dtype: int64\n",
      "1970    5\n",
      "Name: count, dtype: int64\n",
      "2115    5\n",
      "Name: count, dtype: int64\n",
      "2260    5\n",
      "Name: count, dtype: int64\n",
      "2405    5\n",
      "Name: count, dtype: int64\n",
      "2562    5\n",
      "Name: count, dtype: int64\n",
      "2712    2\n",
      "Name: count, dtype: int64\n",
      "2857    2\n",
      "Name: count, dtype: int64\n",
      "3002    2\n",
      "Name: count, dtype: int64\n",
      "3147    2\n",
      "Name: count, dtype: int64\n",
      "3292    2\n",
      "Name: count, dtype: int64\n",
      "3437    2\n",
      "Name: count, dtype: int64\n",
      "3594    2\n",
      "Name: count, dtype: int64\n",
      "3739    2\n",
      "Name: count, dtype: int64\n",
      "3884    2\n",
      "Name: count, dtype: int64\n",
      "4029    2\n",
      "Name: count, dtype: int64\n",
      "4174    2\n",
      "Name: count, dtype: int64\n",
      "4319    2\n",
      "Name: count, dtype: int64\n",
      "4368    2\n",
      "Name: count, dtype: int64\n",
      "4513    2\n",
      "Name: count, dtype: int64\n",
      "4658    2\n",
      "Name: count, dtype: int64\n",
      "4803    2\n",
      "Name: count, dtype: int64\n",
      "4948    2\n",
      "Name: count, dtype: int64\n",
      "5093    2\n",
      "Name: count, dtype: int64\n",
      "5250    4\n",
      "Name: count, dtype: int64\n",
      "5395    4\n",
      "Name: count, dtype: int64\n",
      "5540    4\n",
      "Name: count, dtype: int64\n",
      "5685    4\n",
      "Name: count, dtype: int64\n",
      "5830    4\n",
      "Name: count, dtype: int64\n",
      "5975    4\n",
      "Name: count, dtype: int64\n",
      "6132    4\n",
      "Name: count, dtype: int64\n",
      "6277    4\n",
      "Name: count, dtype: int64\n",
      "6422    4\n",
      "Name: count, dtype: int64\n",
      "6567    4\n",
      "Name: count, dtype: int64\n",
      "6712    4\n",
      "Name: count, dtype: int64\n",
      "6857    4\n",
      "Name: count, dtype: int64\n",
      "7014    4\n",
      "Name: count, dtype: int64\n",
      "7159    4\n",
      "Name: count, dtype: int64\n",
      "66    4\n",
      "Name: count, dtype: int64\n",
      "211    4\n",
      "Name: count, dtype: int64\n",
      "356    4\n",
      "Name: count, dtype: int64\n",
      "501    4\n",
      "Name: count, dtype: int64\n",
      "646    5\n",
      "Name: count, dtype: int64\n",
      "791    5\n",
      "Name: count, dtype: int64\n",
      "948    5\n",
      "Name: count, dtype: int64\n",
      "1093    5\n",
      "Name: count, dtype: int64\n",
      "1238    5\n",
      "Name: count, dtype: int64\n",
      "1383    5\n",
      "Name: count, dtype: int64\n",
      "1528    5\n",
      "Name: count, dtype: int64\n",
      "1673    5\n",
      "Name: count, dtype: int64\n",
      "1831    5\n",
      "Name: count, dtype: int64\n",
      "1976    5\n",
      "Name: count, dtype: int64\n",
      "2121    5\n",
      "Name: count, dtype: int64\n",
      "2266    5\n",
      "Name: count, dtype: int64\n",
      "2411    5\n",
      "Name: count, dtype: int64\n",
      "2568    5\n",
      "Name: count, dtype: int64\n",
      "2713    5\n",
      "Name: count, dtype: int64\n",
      "2858    5\n",
      "Name: count, dtype: int64\n",
      "3003    5\n",
      "Name: count, dtype: int64\n",
      "3148    5\n",
      "Name: count, dtype: int64\n"
     ]
    }
   ],
   "source": [
    "for idx in mylist:\n",
    "    count_idx = data[data['index']==idx]['count']\n",
    "    print(count_idx)"
   ]
  },
  {
   "cell_type": "markdown",
   "metadata": {},
   "source": [
    "### Responses analyses"
   ]
  },
  {
   "cell_type": "code",
   "execution_count": 23,
   "metadata": {
    "collapsed": false
   },
   "outputs": [],
   "source": [
    "is_gram = data['grammatical']==True\n",
    "is_ungram = data['grammatical']==False\n",
    "is_nom = data['cases'].isin(['NNA','NND','NAN','NDN','ANN','DNN'])\n",
    "is_acc = data['cases'].isin(['AAN','AAD','ANA','ADA','NAA','DAA'])\n",
    "is_dat = data['cases'].isin(['DDN','DDA','DND','DAD','NDD','ADD'])\n",
    "is_NDA = data['cases']=='NDA'\n",
    "is_NAD = data['cases']=='NAD'\n",
    "is_AND = data['cases']=='AND'\n",
    "is_ADN = data['cases']=='ADN'\n",
    "is_DNA = data['cases']=='DNA'\n",
    "is_DAN = data['cases']=='DAN'\n",
    "is_animate = data['animated']==True\n",
    "is_inanimate = data['animated']==False\n",
    "is_123 = data['positions']==123\n",
    "is_132 = data['positions']==132\n",
    "is_213 = data['positions']==213\n",
    "is_231 = data['positions']==231\n",
    "is_312 = data['positions']==312\n",
    "is_321 = data['positions']==321"
   ]
  },
  {
   "cell_type": "code",
   "execution_count": 24,
   "metadata": {
    "collapsed": false
   },
   "outputs": [
    {
     "data": {
      "image/png": "[encoded data removed]",
      "text/plain": [
       "<matplotlib.figure.Figure at 0x10fb57470>"
      ]
     },
     "metadata": {},
     "output_type": "display_data"
    }
   ],
   "source": [
    "pyplot.hist(data[is_gram]['mean'], bins = 100, alpha=0.5, color=\"blue\", label='normalized gram ratings')\n",
    "pyplot.hist(data[is_ungram]['mean'], bins = 100, alpha=0.5, color=\"red\", label='normalized ungram ratings')\n",
    "pyplot.legend(loc='upper right', prop={'size': 10})\n",
    "pyplot.show()"
   ]
  },
  {
   "cell_type": "code",
   "execution_count": 25,
   "metadata": {
    "collapsed": false
   },
   "outputs": [
    {
     "data": {
      "text/plain": [
       "grammatical\n",
       "False   -0.09\n",
       "True     0.27\n",
       "Name: mean, dtype: float64"
      ]
     },
     "execution_count": 25,
     "metadata": {},
     "output_type": "execute_result"
    }
   ],
   "source": [
    "data.groupby([\"grammatical\"])[\"mean\"].mean().round(2)#.reset_index()"
   ]
  },
  {
   "cell_type": "code",
   "execution_count": 26,
   "metadata": {
    "collapsed": false
   },
   "outputs": [
    {
     "name": "stdout",
     "output_type": "stream",
     "text": [
      "nom -0.01 acc -0.1 dat -0.16\n"
     ]
    }
   ],
   "source": [
    "print('nom',round(data[is_nom][\"mean\"].mean(),2),\n",
    "      'acc',round(data[is_acc][\"mean\"].mean(),2),\n",
    "      'dat',round(data[is_dat][\"mean\"].mean(),2))"
   ]
  },
  {
   "cell_type": "code",
   "execution_count": 27,
   "metadata": {
    "collapsed": false
   },
   "outputs": [
    {
     "data": {
      "text/plain": [
       "cases\n",
       "AAD   -0.23\n",
       "AAN   -0.25\n",
       "ADA   -0.25\n",
       "ADD   -0.32\n",
       "ANA   -0.13\n",
       "ANN   -0.27\n",
       "DAA   -0.27\n",
       "DAD   -0.32\n",
       "DDA   -0.23\n",
       "DDN   -0.28\n",
       "DND   -0.13\n",
       "DNN   -0.14\n",
       "NAA    0.53\n",
       "NAN    0.12\n",
       "NDD    0.32\n",
       "NDN    0.16\n",
       "NNA    0.05\n",
       "NND    0.02\n",
       "Name: mean, dtype: float64"
      ]
     },
     "execution_count": 27,
     "metadata": {},
     "output_type": "execute_result"
    }
   ],
   "source": [
    "data[is_ungram].groupby([\"cases\"])[\"mean\"].mean().round(2)"
   ]
  },
  {
   "cell_type": "code",
   "execution_count": 28,
   "metadata": {
    "collapsed": false
   },
   "outputs": [
    {
     "data": {
      "text/plain": [
       "cases\n",
       "ADN   -0.19\n",
       "AND   -0.06\n",
       "DAN   -0.16\n",
       "DNA    0.09\n",
       "NAD    0.78\n",
       "NDA    1.14\n",
       "Name: mean, dtype: float64"
      ]
     },
     "execution_count": 28,
     "metadata": {},
     "output_type": "execute_result"
    }
   ],
   "source": [
    "data[is_gram].groupby([\"cases\"])[\"mean\"].mean().round(2)#.reset_index()"
   ]
  },
  {
   "cell_type": "code",
   "execution_count": 29,
   "metadata": {
    "collapsed": false
   },
   "outputs": [
    {
     "data": {
      "text/plain": [
       "positions\n",
       "123    2.38\n",
       "132    0.73\n",
       "213    2.27\n",
       "231    0.60\n",
       "312    0.50\n",
       "321    0.35\n",
       "Name: mean, dtype: float64"
      ]
     },
     "execution_count": 29,
     "metadata": {},
     "output_type": "execute_result"
    }
   ],
   "source": [
    "data[is_gram & is_NDA].groupby([\"positions\"])[\"mean\"].mean().round(2)"
   ]
  },
  {
   "cell_type": "code",
   "execution_count": 30,
   "metadata": {
    "collapsed": false
   },
   "outputs": [
    {
     "data": {
      "text/plain": [
       "cases\n",
       "ADN   -0.192849\n",
       "AND   -0.060842\n",
       "DAN   -0.158846\n",
       "DNA    0.087199\n",
       "NAD    0.781488\n",
       "NDA    1.138776\n",
       "Name: mean, dtype: float64"
      ]
     },
     "execution_count": 30,
     "metadata": {},
     "output_type": "execute_result"
    }
   ],
   "source": [
    "data[is_gram].groupby([\"cases\"])[\"mean\"].mean()#.reset_index()"
   ]
  },
  {
   "cell_type": "code",
   "execution_count": 31,
   "metadata": {
    "collapsed": false
   },
   "outputs": [
    {
     "data": {
      "text/plain": [
       "animated\n",
       "False    0.211780\n",
       "True     0.391917\n",
       "Name: mean, dtype: float64"
      ]
     },
     "execution_count": 31,
     "metadata": {},
     "output_type": "execute_result"
    }
   ],
   "source": [
    "data[is_gram].groupby([\"animated\"])[\"mean\"].mean()"
   ]
  },
  {
   "cell_type": "code",
   "execution_count": 32,
   "metadata": {
    "collapsed": false
   },
   "outputs": [
    {
     "name": "stdout",
     "output_type": "stream",
     "text": [
      "auc over templates: 0.61, previous:0.58\n",
      "auc nom over templates: 0.57, previous:0.56\n",
      "auc acc over templates: 0.62, previous:0.60\n",
      "dat dat over templates: 0.64, previous:0.57\n"
     ]
    }
   ],
   "source": [
    "# AUC per template\n",
    "aucs = []\n",
    "nom_aucs = []\n",
    "acc_aucs = []\n",
    "dat_aucs = []\n",
    "\n",
    "for i in range(50):\n",
    "    is_notnull = data[\"count\"].notnull()\n",
    "    is_temp = data[\"template\"]==i\n",
    "    gram_resp = is_temp & is_notnull & is_gram\n",
    "    ungram_resp = is_temp & is_notnull & is_ungram\n",
    "    nom_resp = is_temp & is_notnull & is_nom\n",
    "    acc_resp = is_temp & is_notnull & is_acc\n",
    "    dat_resp = is_temp & is_notnull & is_dat\n",
    "   \n",
    "    labels = [1]*len(data[gram_resp]) + [0]*len(data[ungram_resp])\n",
    "    nom_labels = [1]*len(data[gram_resp]) + [0]*len(data[nom_resp])\n",
    "    acc_labels = [1]*len(data[gram_resp]) + [0]*len(data[acc_resp])\n",
    "    dat_labels = [1]*len(data[gram_resp]) + [0]*len(data[dat_resp])\n",
    "\n",
    "    scores = pd.concat([data[gram_resp][\"mean\"], data[ungram_resp][\"mean\"]])\n",
    "    nom_scores = pd.concat([data[gram_resp][\"mean\"], data[nom_resp][\"mean\"]])\n",
    "    acc_scores = pd.concat([data[gram_resp][\"mean\"], data[acc_resp][\"mean\"]])\n",
    "    dat_scores = pd.concat([data[gram_resp][\"mean\"], data[dat_resp][\"mean\"]])\n",
    "\n",
    "    auc = roc_auc_score(labels, scores)\n",
    "    nom_auc = roc_auc_score(nom_labels, nom_scores)\n",
    "    acc_auc = roc_auc_score(acc_labels, acc_scores)\n",
    "    dat_auc = roc_auc_score(dat_labels, dat_scores)\n",
    "    \n",
    "    aucs.append(auc)\n",
    "    nom_aucs.append(nom_auc)\n",
    "    acc_aucs.append(acc_auc)\n",
    "    dat_aucs.append(dat_auc)  \n",
    "    \n",
    "    #print('template ',i,'AUC: %.3f' % auc)\n",
    "    \n",
    "print(f\"auc over templates: {round(np.mean(aucs),2)}, previous:0.58\")\n",
    "print(f\"auc nom over templates: {round(np.mean(nom_aucs),2)}, previous:0.56\")\n",
    "print(f\"auc acc over templates: {round(np.mean(acc_aucs),2)}, previous:0.60\")\n",
    "print(f\"dat dat over templates: {round(np.mean(dat_aucs),2)}, previous:0.57\")"
   ]
  },
  {
   "cell_type": "code",
   "execution_count": 24,
   "metadata": {
    "collapsed": true
   },
   "outputs": [],
   "source": [
    "def get_one_letter_diff(word):\n",
    "    violations = []\n",
    "    letters = [\"A\", \"D\", \"N\"]\n",
    "    for letter_1 in letters:\n",
    "        for letter_2 in letters:\n",
    "            if letter_1 != letter_2:\n",
    "                violations.append(word.replace(letter_1, letter_2))                \n",
    "    return violations   "
   ]
  },
  {
   "cell_type": "code",
   "execution_count": 39,
   "metadata": {
    "collapsed": false
   },
   "outputs": [
    {
     "name": "stdout",
     "output_type": "stream",
     "text": [
      "NDA 0    Es steht fest, dass der Polizist dem Fahrer den Führerschein abnimmt.\n",
      "Name: sentence, dtype: object\n",
      "NDD 52    Es steht fest, dass der Polizist dem Fahrer dem Führerschein abnimmt.\n",
      "Name: sentence, dtype: object\n",
      "NDN 39    Es steht fest, dass der Polizist dem Fahrer der Führerschein abnimmt.\n",
      "Name: sentence, dtype: object\n",
      "NAA 46    Es steht fest, dass der Polizist den Fahrer den Führerschein abnimmt.\n",
      "Name: sentence, dtype: object\n",
      "NNA 36    Es steht fest, dass der Polizist der Fahrer den Führerschein abnimmt.\n",
      "Name: sentence, dtype: object\n",
      "ADA 45    Es steht fest, dass den Polizisten dem Fahrer den Führerschein abnimmt.\n",
      "Name: sentence, dtype: object\n",
      "DDA 49    Es steht fest, dass dem Polizisten dem Fahrer den Führerschein abnimmt.\n",
      "Name: sentence, dtype: object\n"
     ]
    }
   ],
   "source": [
    "tmp_template = data['template'] == 0\n",
    "tmp_pos = data['positions'] == 123\n",
    "tmp_cases = data['cases'] == 'NDA'\n",
    "print('NDA', data[tmp_template & tmp_pos & tmp_cases].sentence)\n",
    "tmp_viol = get_one_letter_diff('NDA')\n",
    "for viol in tmp_viol:\n",
    "    print(viol, data[tmp_template & tmp_pos & (data['cases'] == viol)].sentence)"
   ]
  },
  {
   "cell_type": "code",
   "execution_count": 25,
   "metadata": {
    "collapsed": false
   },
   "outputs": [],
   "source": [
    "# 1 vs 6 analysis\n",
    "for index, row in data.iterrows():\n",
    "    if row.grammatical == True:\n",
    "        is_templ = data['template'] == row.template\n",
    "        is_pos = data['positions'] == row.positions\n",
    "        violations = get_one_letter_diff(row.cases)\n",
    "\n",
    "        scores = [row['mean'],*((data[is_templ & is_pos & (data['cases'] == violation)]['mean'])\n",
    "                             for violation in violations)]\n",
    "\n",
    "        labels = [1] + [0]*(len(scores)-1)\n",
    "        auc = roc_auc_score(labels, scores)\n",
    "        data.loc[index,'1vs6'] = auc\n",
    "        "
   ]
  },
  {
   "cell_type": "code",
   "execution_count": 91,
   "metadata": {
    "collapsed": false
   },
   "outputs": [
    {
     "name": "stdout",
     "output_type": "stream",
     "text": [
      "AUC 1 vs 6\n"
     ]
    },
    {
     "data": {
      "text/html": [
       "<div>\n",
       "<table border=\"1\" class=\"dataframe\">\n",
       "  <thead>\n",
       "    <tr style=\"text-align: right;\">\n",
       "      <th>Case\\Pos</th>\n",
       "      <th>123</th>\n",
       "      <th>132</th>\n",
       "      <th>213</th>\n",
       "      <th>231</th>\n",
       "      <th>312</th>\n",
       "      <th>321</th>\n",
       "    </tr>\n",
       "  </thead>\n",
       "  <tbody>\n",
       "    <tr>\n",
       "      <th>ADN</th>\n",
       "      <td>0.43</td>\n",
       "      <td>0.51</td>\n",
       "      <td>0.46</td>\n",
       "      <td>0.50</td>\n",
       "      <td>0.64</td>\n",
       "      <td>0.66</td>\n",
       "    </tr>\n",
       "    <tr>\n",
       "      <th>AND</th>\n",
       "      <td>0.51</td>\n",
       "      <td>0.54</td>\n",
       "      <td>0.49</td>\n",
       "      <td>0.57</td>\n",
       "      <td>0.66</td>\n",
       "      <td>0.72</td>\n",
       "    </tr>\n",
       "    <tr>\n",
       "      <th>DAN</th>\n",
       "      <td>0.44</td>\n",
       "      <td>0.63</td>\n",
       "      <td>0.47</td>\n",
       "      <td>0.67</td>\n",
       "      <td>0.46</td>\n",
       "      <td>0.48</td>\n",
       "    </tr>\n",
       "    <tr>\n",
       "      <th>DNA</th>\n",
       "      <td>0.78</td>\n",
       "      <td>0.55</td>\n",
       "      <td>0.76</td>\n",
       "      <td>0.49</td>\n",
       "      <td>0.57</td>\n",
       "      <td>0.54</td>\n",
       "    </tr>\n",
       "    <tr>\n",
       "      <th>NAD</th>\n",
       "      <td>0.73</td>\n",
       "      <td>0.93</td>\n",
       "      <td>0.64</td>\n",
       "      <td>0.89</td>\n",
       "      <td>0.64</td>\n",
       "      <td>0.64</td>\n",
       "    </tr>\n",
       "    <tr>\n",
       "      <th>NDA</th>\n",
       "      <td>0.93</td>\n",
       "      <td>0.73</td>\n",
       "      <td>0.95</td>\n",
       "      <td>0.72</td>\n",
       "      <td>0.67</td>\n",
       "      <td>0.69</td>\n",
       "    </tr>\n",
       "  </tbody>\n",
       "</table>\n",
       "</div>"
      ],
      "text/plain": [
       "Case\\Pos   123   132   213   231   312   321\n",
       "ADN       0.43  0.51  0.46  0.50  0.64  0.66\n",
       "AND       0.51  0.54  0.49  0.57  0.66  0.72\n",
       "DAN       0.44  0.63  0.47  0.67  0.46  0.48\n",
       "DNA       0.78  0.55  0.76  0.49  0.57  0.54\n",
       "NAD       0.73  0.93  0.64  0.89  0.64  0.64\n",
       "NDA       0.93  0.73  0.95  0.72  0.67  0.69"
      ]
     },
     "execution_count": 91,
     "metadata": {},
     "output_type": "execute_result"
    }
   ],
   "source": [
    "gb = data[is_gram].groupby([\"cases\", \"positions\"])[\"1vs6\"].mean().round(2).reset_index().pivot(index=\"cases\",\n",
    "                                                                                 columns=\"positions\",\n",
    "                                                                                 values=\"1vs6\")\n",
    "gb.index.name = None\n",
    "gb.columns.name = \"Case\\Pos\"\n",
    "print('AUC 1 vs 6')\n",
    "gb"
   ]
  },
  {
   "cell_type": "code",
   "execution_count": null,
   "metadata": {
    "collapsed": true
   },
   "outputs": [],
   "source": []
  },
  {
   "cell_type": "code",
   "execution_count": null,
   "metadata": {
    "collapsed": true
   },
   "outputs": [],
   "source": []
  },
  {
   "cell_type": "code",
   "execution_count": null,
   "metadata": {
    "collapsed": true
   },
   "outputs": [],
   "source": [
    "groups_to_evaluate = []\n",
    "for i in range(100):\n",
    "    if i not in validated_groups:\n",
    "        groups_to_evaluate.append(i)\n",
    "print(len(groups_to_evaluate))\n",
    "groups_to_evaluate.sort()\n",
    "for idx, stc in enumerate(groups_to_evaluate):\n",
    "    print(idx, stc)"
   ]
  },
  {
   "cell_type": "code",
   "execution_count": null,
   "metadata": {
    "collapsed": false
   },
   "outputs": [],
   "source": [
    "with open('data/urls.txt','w') as outfile:\n",
    "    for i in range(73):\n",
    "        line = 'https://expt.pcibex.net/ibexexps/charlotte/geev/server.py?withsquare='\n",
    "        outfile.write(line + str(i) + '\\n')"
   ]
  },
  {
   "cell_type": "code",
   "execution_count": null,
   "metadata": {
    "collapsed": false
   },
   "outputs": [],
   "source": [
    "### writing IDs for validated blocks of sentences\n",
    "with open('data/pcibex.csv', 'r') as infile, open('data/pcibex2.csv', 'w') as outfile:\n",
    "    reader = csv.DictReader(infile)\n",
    "    writer = csv.DictWriter(outfile, fieldnames=reader.fieldnames)\n",
    "    writer.writeheader()  # For writing header\n",
    "    for row in reader:\n",
    "        if row['Group'] not in validated_groups:\n",
    "            writer.writerow(row)"
   ]
  },
  {
   "cell_type": "code",
   "execution_count": 9,
   "metadata": {
    "collapsed": false
   },
   "outputs": [],
   "source": [
    "# generate pass/fail test w/ corresponding participant's ID\n",
    "counter=0\n",
    "with open('data/participants_june22.txt', 'w') as outfile:\n",
    "    for name in all_names:\n",
    "        name = name.strip()\n",
    "        \n",
    "        if name in passed:\n",
    "            line = name #+ ',pass'\n",
    "        else:\n",
    "            line = name #+',fail'\n",
    "        counter+= 1\n",
    "        outfile.write(line)\n",
    "        outfile.write('\\n')"
   ]
  },
  {
   "cell_type": "code",
   "execution_count": 10,
   "metadata": {
    "collapsed": false
   },
   "outputs": [
    {
     "name": "stdout",
     "output_type": "stream",
     "text": [
      "73\n"
     ]
    }
   ],
   "source": [
    "print(counter)"
   ]
  },
  {
   "cell_type": "code",
   "execution_count": null,
   "metadata": {
    "collapsed": true
   },
   "outputs": [],
   "source": []
  }
 ],
 "metadata": {
  "kernelspec": {
   "display_name": "Python 3",
   "language": "python",
   "name": "python3"
  },
  "language_info": {
   "codemirror_mode": {
    "name": "ipython",
    "version": 3
   },
   "file_extension": ".py",
   "mimetype": "text/x-python",
   "name": "python",
   "nbconvert_exporter": "python",
   "pygments_lexer": "ipython3",
   "version": "3.6.8"
  }
 },
 "nbformat": 4,
 "nbformat_minor": 2
}
