{
 "cells": [
  {
   "cell_type": "code",
   "execution_count": 41,
   "metadata": {},
   "outputs": [],
   "source": [
    "import numpy as np\n",
    "import pandas as pd"
   ]
  },
  {
   "cell_type": "code",
   "execution_count": 42,
   "metadata": {},
   "outputs": [],
   "source": [
    "import spacy"
   ]
  },
  {
   "cell_type": "code",
   "execution_count": 43,
   "metadata": {},
   "outputs": [],
   "source": [
    "from experiments import CHAR_VOCAB_PATH\n",
    "from utils import generate_vocab_mappings, load_sentences"
   ]
  },
  {
   "cell_type": "code",
   "execution_count": 44,
   "metadata": {},
   "outputs": [],
   "source": [
    "itos, stoi = generate_vocab_mappings(CHAR_VOCAB_PATH)"
   ]
  },
  {
   "cell_type": "code",
   "execution_count": 45,
   "metadata": {},
   "outputs": [],
   "source": [
    "sentences_w_number = load_sentences(\"input_sentences/refactored_sentences.txt\")"
   ]
  },
  {
   "cell_type": "code",
   "execution_count": 46,
   "metadata": {},
   "outputs": [],
   "source": [
    "nlp = spacy.load('de_core_news_sm')"
   ]
  },
  {
   "cell_type": "markdown",
   "metadata": {},
   "source": [
    "### Generating german dictionary "
   ]
  },
  {
   "cell_type": "code",
   "execution_count": 47,
   "metadata": {},
   "outputs": [],
   "source": [
    "def generate_german_dict(path):\n",
    "    # TODO: path is \"vocabularies/de_dict.csv\"\n",
    "    df = pd.read_csv(path)\n",
    "    df = df[['lemma','genus','akkusativ singular','akkusativ singular 1','dativ singular',\n",
    "                'dativ singular 1','genitiv singular','genitiv singular 1',\n",
    "             'nominativ plural','akkusativ plural','akkusativ plural 1','dativ plural',\n",
    "                'dativ plural 1','genitiv plural','genitiv plural 1']]\n",
    "    df = df.rename(columns={\n",
    "                                 'lemma':'nom sg',\n",
    "                                 'akkusativ singular':'acc sg',\n",
    "                                 'akkusativ singular 1':'acc1 sg',\n",
    "                                 'dativ singular':'dat sg',\n",
    "                                 'dativ singular 1':'dat1 sg',\n",
    "                                 'genitiv singular':'gen sg',\n",
    "                                 'genitiv singular 1':'gen1 sg',\n",
    "                                 'nominativ plural':'nom pl',\n",
    "                                 'akkusativ plural':'acc pl',\n",
    "                                 'akkusativ plural 1':'acc1 pl',\n",
    "                                 'dativ plural':'dat pl',\n",
    "                                 'dativ plural 1':'dat1 pl',\n",
    "                                 'genitiv plural':'gen pl',\n",
    "                                 'genitiv plural 1':'gen1 pl'\n",
    "                                 })\n",
    "    \n",
    "    df = df.replace(np.nan, '', regex=True)\n",
    "    df['acc sg'] = df['acc sg'] + df['acc1 sg']\n",
    "    df['dat sg'] = df['dat sg'] + df['dat1 sg']\n",
    "    df['gen sg'] = df['gen sg'] + df['gen1 sg']\n",
    "    df['acc pl'] = df['acc pl'] + df['acc1 pl']\n",
    "    df['dat pl'] = df['dat pl'] + df['dat1 pl']\n",
    "    df['gen pl'] = df['gen pl'] + df['gen1 pl']\n",
    "    df = df.drop(['acc1 sg','dat1 sg','gen1 sg','acc1 pl','dat1 pl','gen1 pl'], axis=1)\n",
    "    #duplicates = df.duplicated(subset=None, keep='first')\n",
    "    print(df.shape)\n",
    "    german_dict = df.set_index('nom sg').T.to_dict('list')\n",
    "    return german_dict, df"
   ]
  },
  {
   "cell_type": "code",
   "execution_count": 48,
   "metadata": {},
   "outputs": [
    {
     "name": "stdout",
     "output_type": "stream",
     "text": [
      "(79203, 9)\n"
     ]
    },
    {
     "name": "stderr",
     "output_type": "stream",
     "text": [
      "/Users/charlotterochereau/anaconda3/envs/char_lm_fb/lib/python3.6/site-packages/ipykernel_launcher.py:35: UserWarning: DataFrame columns are not unique, some columns will be omitted.\n"
     ]
    }
   ],
   "source": [
    "german_dict, df = generate_german_dict(\"vocabularies/de_dict.csv\")"
   ]
  },
  {
   "cell_type": "code",
   "execution_count": 49,
   "metadata": {},
   "outputs": [
    {
     "name": "stdout",
     "output_type": "stream",
     "text": [
      "['n', 'Geschenk', 'Geschenk', 'Geschenkes', 'Geschenke', 'Geschenke', 'Geschenken', 'Geschenke']\n",
      "['m', 'Mann', 'Mann', 'Mannes', '', 'Männer', 'Männern', 'Männer']\n",
      "['m', 'Jungen', 'Jungen', 'Jungen', '', 'Jungen', 'Jungen', 'Jungen']\n",
      "['m', 'Journalisten', 'Journalisten', 'Journalisten', 'Journalisten', 'Journalisten', 'Journalisten', 'Journalisten']\n",
      "['m', 'Präsidenten', 'Präsidenten', 'Präsidenten', 'Präsidenten', 'Präsidenten', 'Präsidenten', 'Präsidenten']\n",
      "['n', 'Mädchen', 'Mädchen', 'Mädchens', 'Mädchen', 'Mädchen', 'Mädchen', 'Mädchen']\n",
      "['n', 'Bett', 'Bett', 'Betts', 'Betten', 'Betten', 'Betten', 'Betten']\n",
      "['m', 'Helden', 'Helden', 'Helden', '', 'Helden', 'Helden', 'Helden']\n",
      "['m', 'Arzt', 'Arzt', 'Arztes', 'Ärzte', 'Ärzte', 'Ärzten', 'Ärzte']\n",
      "['m', 'Tisch', 'Tisch', 'Tischs', 'Tische', 'Tische', 'Tischen', 'Tische']\n",
      "['m', 'Platz', 'Platz', 'Platzes', 'Plätze', 'Plätze', 'Plätzen', 'Plätze']\n"
     ]
    }
   ],
   "source": [
    "# testing german_dict\n",
    "print(german_dict[\"Geschenk\"])\n",
    "print(german_dict[\"Mann\"])\n",
    "print(german_dict[\"Junge\"])\n",
    "print(german_dict[\"Journalist\"])\n",
    "print(german_dict[\"Präsident\"])\n",
    "print(german_dict[\"Mädchen\"])\n",
    "print(german_dict[\"Bett\"])\n",
    "print(german_dict[\"Held\"])\n",
    "print(german_dict[\"Arzt\"])\n",
    "print(german_dict[\"Tisch\"])\n",
    "print(german_dict[\"Platz\"])"
   ]
  },
  {
   "cell_type": "raw",
   "metadata": {},
   "source": [
    "ok: error raised when calling plural name from german_dict"
   ]
  },
  {
   "cell_type": "markdown",
   "metadata": {},
   "source": [
    "### Parsing using spacy"
   ]
  },
  {
   "cell_type": "code",
   "execution_count": 50,
   "metadata": {},
   "outputs": [
    {
     "name": "stdout",
     "output_type": "stream",
     "text": [
      "Wir glauben, dass der Mann sg die Frau pl ein Geschenk sg gegeben hat. Wir wissen, dass der Bankier sg sein Kunde pl eine Finanzierung sg angeboten hat. Wir wissen, dass das Kindermädchen sg das Kind sg ein Buch sg gekauft hat. Wir vermuten, dass die Hausherrin sg sein Gast pl ein Wein sg angebietet hat. Wir denken, dass der Mann sg sein Freund pl eine Sehenswürdigkeit pl gezeigt hat. Wir bezweifeln, dass der Verdächtiger sg sein Anwalt sg die Wahrheit sg verheimlicht hat. Wir denken, dass der Arzt sg der Patient sg eine Behandlung sg verschieben hat. Wir erfahren, dass der Eigentümer sg ein Student sg seine Wohnung sg vermietet hat. Wir verdächtigen, dass der Spion sg ihr Feind sg das Geheimnis pl verratet hat. Wir denken, dass die Frau sg sein Partner sg eine Überraschung sg versprochen hat. Ihr weisst, dass die Mutter sg ihre Tochter sg ein Paket sg geschickt hat. Sie sagen, dass der Sportler sg seine Nachbarin sg sein Fahrrad sg verliehen hat. Wir erfahren, dass die Presse sg der Zuhörer pl die Nachricht sg verkündet hat. Sie hören, dass der Senat sg die Abgeordnete pl eine Maßnahme sg gemeldet hat. Ich glaube, dass der Junge sg sein Kumpel sg ein Kugelschreiber sg mitgebracht hat. Ich hoffe, dass das Theater sg der Musiker pl ein Sitzplatz pl reserviert hat. Er befürwortet, dass der Schüler pl der Lehrer sg ihre Frage pl mitgeteilt haben. Er bewundert, dass der Professor sg der Student pl ein Fach pl unterrichet hat. Sie hofft, dass der Chef sg das Kind pl ein Kuchen sg gebacken hat.\n"
     ]
    }
   ],
   "source": [
    "print(sentences_w_number)"
   ]
  },
  {
   "cell_type": "code",
   "execution_count": 72,
   "metadata": {},
   "outputs": [],
   "source": [
    "sentences_wo_number = sentences_w_number.replace('sg ','').replace('pl ','')"
   ]
  },
  {
   "cell_type": "code",
   "execution_count": 73,
   "metadata": {},
   "outputs": [
    {
     "name": "stdout",
     "output_type": "stream",
     "text": [
      "Wir glauben, dass der Mann die Frau ein Geschenk gegeben hat. Wir wissen, dass der Bankier sein Kunde eine Finanzierung angeboten hat. Wir wissen, dass das Kindermädchen das Kind ein Buch gekauft hat. Wir vermuten, dass die Hausherrin sein Gast ein Wein angebietet hat. Wir denken, dass der Mann sein Freund eine Sehenswürdigkeit gezeigt hat. Wir bezweifeln, dass der Verdächtiger sein Anwalt die Wahrheit verheimlicht hat. Wir denken, dass der Arzt der Patient eine Behandlung verschieben hat. Wir erfahren, dass der Eigentümer ein Student seine Wohnung vermietet hat. Wir verdächtigen, dass der Spion ihr Feind das Geheimnis verratet hat. Wir denken, dass die Frau sein Partner eine Überraschung versprochen hat. Ihr weisst, dass die Mutter ihre Tochter ein Paket geschickt hat. Sie sagen, dass der Sportler seine Nachbarin sein Fahrrad verliehen hat. Wir erfahren, dass die Presse der Zuhörer die Nachricht verkündet hat. Sie hören, dass der Senat die Abgeordnete eine Maßnahme gemeldet hat. Ich glaube, dass der Junge sein Kumpel ein Kugelschreiber mitgebracht hat. Ich hoffe, dass das Theater der Musiker ein Sitzplatz reserviert hat. Er befürwortet, dass der Schüler der Lehrer ihre Frage mitgeteilt haben. Er bewundert, dass der Professor der Student ein Fach unterrichet hat. Sie hofft, dass der Chef das Kind ein Kuchen gebacken hat.\n"
     ]
    }
   ],
   "source": [
    "print(sentences_wo_number)"
   ]
  },
  {
   "cell_type": "code",
   "execution_count": 74,
   "metadata": {},
   "outputs": [
    {
     "name": "stdout",
     "output_type": "stream",
     "text": [
      "doc with number: 304\n",
      "doc without number: 247\n"
     ]
    }
   ],
   "source": [
    "doc_w_number = nlp(sentences_w_number)\n",
    "print(\"doc with number:\",len(doc_w_number))\n",
    "doc_wo_number = nlp(sentences_wo_number)\n",
    "print(\"doc without number:\",len(doc_wo_number))"
   ]
  },
  {
   "cell_type": "markdown",
   "metadata": {},
   "source": [
    "### Sentence segmenter"
   ]
  },
  {
   "cell_type": "code",
   "execution_count": 75,
   "metadata": {},
   "outputs": [
    {
     "name": "stdout",
     "output_type": "stream",
     "text": [
      "['Wir glauben, dass der Mann sg die Frau pl ein Geschenk sg gegeben hat.', 'Wir wissen, dass der Bankier sg sein Kunde pl eine Finanzierung sg angeboten hat.', 'Wir wissen, dass das Kindermädchen sg das Kind sg ein Buch sg gekauft hat.', 'Wir vermuten, dass die Hausherrin sg sein Gast pl ein Wein sg angebietet hat.', 'Wir denken, dass der Mann sg sein Freund pl eine Sehenswürdigkeit pl gezeigt hat.', 'Wir bezweifeln, dass der Verdächtiger sg sein Anwalt sg die Wahrheit sg verheimlicht hat.', 'Wir denken, dass der Arzt sg der Patient sg eine Behandlung sg verschieben hat.', 'Wir erfahren, dass der Eigentümer sg ein Student sg seine Wohnung sg vermietet hat.', 'Wir verdächtigen, dass der Spion sg ihr Feind sg das Geheimnis pl verratet hat.', 'Wir denken, dass die Frau sg sein Partner sg eine Überraschung sg versprochen hat.', 'Ihr weisst, dass die Mutter sg ihre Tochter sg ein Paket sg geschickt hat.', 'Sie sagen, dass der Sportler sg seine Nachbarin sg sein Fahrrad sg verliehen hat.', 'Wir erfahren, dass die Presse sg der Zuhörer pl die Nachricht sg verkündet hat.', 'Sie hören, dass der Senat sg die Abgeordnete pl eine Maßnahme sg gemeldet hat.', 'Ich glaube, dass der Junge sg sein Kumpel sg ein Kugelschreiber sg mitgebracht hat.', 'Ich hoffe, dass das Theater sg der Musiker pl ein Sitzplatz pl reserviert hat.', 'Er befürwortet, dass der Schüler pl der Lehrer sg ihre Frage pl mitgeteilt haben.', 'Er bewundert, dass der Professor sg der Student pl ein Fach pl unterrichet hat.', 'Sie hofft, dass der Chef sg das Kind pl ein Kuchen sg gebacken hat.']\n"
     ]
    }
   ],
   "source": [
    "list_sentences_w_number = []\n",
    "for sentence in doc_w_number.sents:\n",
    "    list_sentences_w_number.append(sentence.text)\n",
    "print(list_sentences_w_number)"
   ]
  },
  {
   "cell_type": "code",
   "execution_count": 76,
   "metadata": {},
   "outputs": [
    {
     "name": "stdout",
     "output_type": "stream",
     "text": [
      "['Wir glauben, dass der Mann die Frau ein Geschenk gegeben hat.', 'Wir wissen, dass der Bankier sein Kunde eine Finanzierung angeboten hat.', 'Wir wissen, dass das Kindermädchen das Kind ein Buch gekauft hat.', 'Wir vermuten, dass die Hausherrin sein Gast ein Wein angebietet hat.', 'Wir denken, dass der Mann sein Freund eine Sehenswürdigkeit gezeigt hat.', 'Wir bezweifeln, dass der Verdächtiger sein Anwalt die Wahrheit verheimlicht hat.', 'Wir denken, dass der Arzt der Patient eine Behandlung verschieben hat.', 'Wir erfahren, dass der Eigentümer ein Student seine Wohnung vermietet hat.', 'Wir verdächtigen, dass der Spion ihr Feind das Geheimnis verratet hat.', 'Wir denken, dass die Frau sein Partner eine Überraschung versprochen hat.', 'Ihr weisst, dass die Mutter ihre Tochter ein Paket geschickt hat.', 'Sie sagen, dass der Sportler seine Nachbarin sein Fahrrad verliehen hat.', 'Wir erfahren, dass die Presse der Zuhörer die Nachricht verkündet hat.', 'Sie hören, dass der Senat die Abgeordnete eine Maßnahme gemeldet hat.', 'Ich glaube, dass der Junge sein Kumpel ein Kugelschreiber mitgebracht hat.', 'Ich hoffe, dass das Theater der Musiker ein Sitzplatz reserviert hat.', 'Er befürwortet, dass der Schüler der Lehrer ihre Frage mitgeteilt haben.', 'Er bewundert, dass der Professor der Student ein Fach unterrichet hat.', 'Sie hofft, dass der Chef das Kind ein Kuchen gebacken hat.']\n"
     ]
    }
   ],
   "source": [
    "list_sentences_wo_number = []\n",
    "for sentence in doc_wo_number.sents:\n",
    "    list_sentences_wo_number.append(sentence.text)\n",
    "print(list_sentences_wo_number)"
   ]
  },
  {
   "cell_type": "code",
   "execution_count": 77,
   "metadata": {},
   "outputs": [
    {
     "name": "stdout",
     "output_type": "stream",
     "text": [
      "number of sentences: 19\n",
      "characters in sentences with number: 70\n",
      "characters in sentences without number: 61\n"
     ]
    }
   ],
   "source": [
    "assert len(list_sentences_w_number) == len(list_sentences_wo_number)\n",
    "print(\"number of sentences:\",len(list_sentences_w_number))\n",
    "print(\"characters in sentences with number:\", len(list_sentences_w_number[0]))\n",
    "print(\"characters in sentences without number:\", len(list_sentences_wo_number[0]))"
   ]
  },
  {
   "cell_type": "markdown",
   "metadata": {},
   "source": [
    "### Tokenizing using spacy"
   ]
  },
  {
   "cell_type": "code",
   "execution_count": 78,
   "metadata": {},
   "outputs": [],
   "source": [
    "doc_list_w_number = []\n",
    "for sentence in range(len(list_sentences_w_number)):\n",
    "    doc_list_w_number.append(nlp(list_sentences_w_number[sentence]))"
   ]
  },
  {
   "cell_type": "code",
   "execution_count": 79,
   "metadata": {},
   "outputs": [
    {
     "name": "stdout",
     "output_type": "stream",
     "text": [
      "[Wir glauben, dass der Mann sg die Frau pl ein Geschenk sg gegeben hat., Wir wissen, dass der Bankier sg sein Kunde pl eine Finanzierung sg angeboten hat., Wir wissen, dass das Kindermädchen sg das Kind sg ein Buch sg gekauft hat., Wir vermuten, dass die Hausherrin sg sein Gast pl ein Wein sg angebietet hat., Wir denken, dass der Mann sg sein Freund pl eine Sehenswürdigkeit pl gezeigt hat., Wir bezweifeln, dass der Verdächtiger sg sein Anwalt sg die Wahrheit sg verheimlicht hat., Wir denken, dass der Arzt sg der Patient sg eine Behandlung sg verschieben hat., Wir erfahren, dass der Eigentümer sg ein Student sg seine Wohnung sg vermietet hat., Wir verdächtigen, dass der Spion sg ihr Feind sg das Geheimnis pl verratet hat., Wir denken, dass die Frau sg sein Partner sg eine Überraschung sg versprochen hat., Ihr weisst, dass die Mutter sg ihre Tochter sg ein Paket sg geschickt hat., Sie sagen, dass der Sportler sg seine Nachbarin sg sein Fahrrad sg verliehen hat., Wir erfahren, dass die Presse sg der Zuhörer pl die Nachricht sg verkündet hat., Sie hören, dass der Senat sg die Abgeordnete pl eine Maßnahme sg gemeldet hat., Ich glaube, dass der Junge sg sein Kumpel sg ein Kugelschreiber sg mitgebracht hat., Ich hoffe, dass das Theater sg der Musiker pl ein Sitzplatz pl reserviert hat., Er befürwortet, dass der Schüler pl der Lehrer sg ihre Frage pl mitgeteilt haben., Er bewundert, dass der Professor sg der Student pl ein Fach pl unterrichet hat., Sie hofft, dass der Chef sg das Kind pl ein Kuchen sg gebacken hat.]\n"
     ]
    }
   ],
   "source": [
    "print(doc_list_w_number)"
   ]
  },
  {
   "cell_type": "code",
   "execution_count": 80,
   "metadata": {},
   "outputs": [],
   "source": [
    "tokens_w_number = [[] for _ in range(len(list_sentences_w_number))]\n",
    "for idx_sentence, sentence in enumerate(doc_list_w_number):\n",
    "    for token in sentence: \n",
    "        tokens_w_number[idx_sentence].append(token.text)"
   ]
  },
  {
   "cell_type": "code",
   "execution_count": 81,
   "metadata": {},
   "outputs": [
    {
     "name": "stdout",
     "output_type": "stream",
     "text": [
      "[['Wir', 'glauben', ',', 'dass', 'der', 'Mann', 'sg', 'die', 'Frau', 'pl', 'ein', 'Geschenk', 'sg', 'gegeben', 'hat', '.'], ['Wir', 'wissen', ',', 'dass', 'der', 'Bankier', 'sg', 'sein', 'Kunde', 'pl', 'eine', 'Finanzierung', 'sg', 'angeboten', 'hat', '.'], ['Wir', 'wissen', ',', 'dass', 'das', 'Kindermädchen', 'sg', 'das', 'Kind', 'sg', 'ein', 'Buch', 'sg', 'gekauft', 'hat', '.'], ['Wir', 'vermuten', ',', 'dass', 'die', 'Hausherrin', 'sg', 'sein', 'Gast', 'pl', 'ein', 'Wein', 'sg', 'angebietet', 'hat', '.'], ['Wir', 'denken', ',', 'dass', 'der', 'Mann', 'sg', 'sein', 'Freund', 'pl', 'eine', 'Sehenswürdigkeit', 'pl', 'gezeigt', 'hat', '.'], ['Wir', 'bezweifeln', ',', 'dass', 'der', 'Verdächtiger', 'sg', 'sein', 'Anwalt', 'sg', 'die', 'Wahrheit', 'sg', 'verheimlicht', 'hat', '.'], ['Wir', 'denken', ',', 'dass', 'der', 'Arzt', 'sg', 'der', 'Patient', 'sg', 'eine', 'Behandlung', 'sg', 'verschieben', 'hat', '.'], ['Wir', 'erfahren', ',', 'dass', 'der', 'Eigentümer', 'sg', 'ein', 'Student', 'sg', 'seine', 'Wohnung', 'sg', 'vermietet', 'hat', '.'], ['Wir', 'verdächtigen', ',', 'dass', 'der', 'Spion', 'sg', 'ihr', 'Feind', 'sg', 'das', 'Geheimnis', 'pl', 'verratet', 'hat', '.'], ['Wir', 'denken', ',', 'dass', 'die', 'Frau', 'sg', 'sein', 'Partner', 'sg', 'eine', 'Überraschung', 'sg', 'versprochen', 'hat', '.'], ['Ihr', 'weisst', ',', 'dass', 'die', 'Mutter', 'sg', 'ihre', 'Tochter', 'sg', 'ein', 'Paket', 'sg', 'geschickt', 'hat', '.'], ['Sie', 'sagen', ',', 'dass', 'der', 'Sportler', 'sg', 'seine', 'Nachbarin', 'sg', 'sein', 'Fahrrad', 'sg', 'verliehen', 'hat', '.'], ['Wir', 'erfahren', ',', 'dass', 'die', 'Presse', 'sg', 'der', 'Zuhörer', 'pl', 'die', 'Nachricht', 'sg', 'verkündet', 'hat', '.'], ['Sie', 'hören', ',', 'dass', 'der', 'Senat', 'sg', 'die', 'Abgeordnete', 'pl', 'eine', 'Maßnahme', 'sg', 'gemeldet', 'hat', '.'], ['Ich', 'glaube', ',', 'dass', 'der', 'Junge', 'sg', 'sein', 'Kumpel', 'sg', 'ein', 'Kugelschreiber', 'sg', 'mitgebracht', 'hat', '.'], ['Ich', 'hoffe', ',', 'dass', 'das', 'Theater', 'sg', 'der', 'Musiker', 'pl', 'ein', 'Sitzplatz', 'pl', 'reserviert', 'hat', '.'], ['Er', 'befürwortet', ',', 'dass', 'der', 'Schüler', 'pl', 'der', 'Lehrer', 'sg', 'ihre', 'Frage', 'pl', 'mitgeteilt', 'haben', '.'], ['Er', 'bewundert', ',', 'dass', 'der', 'Professor', 'sg', 'der', 'Student', 'pl', 'ein', 'Fach', 'pl', 'unterrichet', 'hat', '.'], ['Sie', 'hofft', ',', 'dass', 'der', 'Chef', 'sg', 'das', 'Kind', 'pl', 'ein', 'Kuchen', 'sg', 'gebacken', 'hat', '.']]\n"
     ]
    }
   ],
   "source": [
    "print(tokens_w_number)"
   ]
  },
  {
   "cell_type": "code",
   "execution_count": 82,
   "metadata": {},
   "outputs": [],
   "source": [
    "doc_list_wo_number = []\n",
    "for sentence in range(len(list_sentences_wo_number)):\n",
    "    doc_list_wo_number.append(nlp(list_sentences_wo_number[sentence]))"
   ]
  },
  {
   "cell_type": "code",
   "execution_count": 83,
   "metadata": {},
   "outputs": [
    {
     "name": "stdout",
     "output_type": "stream",
     "text": [
      "[Wir glauben, dass der Mann die Frau ein Geschenk gegeben hat., Wir wissen, dass der Bankier sein Kunde eine Finanzierung angeboten hat., Wir wissen, dass das Kindermädchen das Kind ein Buch gekauft hat., Wir vermuten, dass die Hausherrin sein Gast ein Wein angebietet hat., Wir denken, dass der Mann sein Freund eine Sehenswürdigkeit gezeigt hat., Wir bezweifeln, dass der Verdächtiger sein Anwalt die Wahrheit verheimlicht hat., Wir denken, dass der Arzt der Patient eine Behandlung verschieben hat., Wir erfahren, dass der Eigentümer ein Student seine Wohnung vermietet hat., Wir verdächtigen, dass der Spion ihr Feind das Geheimnis verratet hat., Wir denken, dass die Frau sein Partner eine Überraschung versprochen hat., Ihr weisst, dass die Mutter ihre Tochter ein Paket geschickt hat., Sie sagen, dass der Sportler seine Nachbarin sein Fahrrad verliehen hat., Wir erfahren, dass die Presse der Zuhörer die Nachricht verkündet hat., Sie hören, dass der Senat die Abgeordnete eine Maßnahme gemeldet hat., Ich glaube, dass der Junge sein Kumpel ein Kugelschreiber mitgebracht hat., Ich hoffe, dass das Theater der Musiker ein Sitzplatz reserviert hat., Er befürwortet, dass der Schüler der Lehrer ihre Frage mitgeteilt haben., Er bewundert, dass der Professor der Student ein Fach unterrichet hat., Sie hofft, dass der Chef das Kind ein Kuchen gebacken hat.]\n"
     ]
    }
   ],
   "source": [
    "print(doc_list_wo_number)"
   ]
  },
  {
   "cell_type": "code",
   "execution_count": 84,
   "metadata": {},
   "outputs": [],
   "source": [
    "tokens_wo_number = [[] for _ in range(len(list_sentences_wo_number))]\n",
    "for idx_sentence, sentence in enumerate(doc_list_wo_number):\n",
    "    for token in sentence: \n",
    "        tokens_wo_number[idx_sentence].append(token.text)"
   ]
  },
  {
   "cell_type": "code",
   "execution_count": 85,
   "metadata": {
    "scrolled": true
   },
   "outputs": [
    {
     "name": "stdout",
     "output_type": "stream",
     "text": [
      "[['Wir', 'glauben', ',', 'dass', 'der', 'Mann', 'sg', 'die', 'Frau', 'pl', 'ein', 'Geschenk', 'sg', 'gegeben', 'hat', '.'], ['Wir', 'wissen', ',', 'dass', 'der', 'Bankier', 'sg', 'sein', 'Kunde', 'pl', 'eine', 'Finanzierung', 'sg', 'angeboten', 'hat', '.'], ['Wir', 'wissen', ',', 'dass', 'das', 'Kindermädchen', 'sg', 'das', 'Kind', 'sg', 'ein', 'Buch', 'sg', 'gekauft', 'hat', '.'], ['Wir', 'vermuten', ',', 'dass', 'die', 'Hausherrin', 'sg', 'sein', 'Gast', 'pl', 'ein', 'Wein', 'sg', 'angebietet', 'hat', '.'], ['Wir', 'denken', ',', 'dass', 'der', 'Mann', 'sg', 'sein', 'Freund', 'pl', 'eine', 'Sehenswürdigkeit', 'pl', 'gezeigt', 'hat', '.'], ['Wir', 'bezweifeln', ',', 'dass', 'der', 'Verdächtiger', 'sg', 'sein', 'Anwalt', 'sg', 'die', 'Wahrheit', 'sg', 'verheimlicht', 'hat', '.'], ['Wir', 'denken', ',', 'dass', 'der', 'Arzt', 'sg', 'der', 'Patient', 'sg', 'eine', 'Behandlung', 'sg', 'verschieben', 'hat', '.'], ['Wir', 'erfahren', ',', 'dass', 'der', 'Eigentümer', 'sg', 'ein', 'Student', 'sg', 'seine', 'Wohnung', 'sg', 'vermietet', 'hat', '.'], ['Wir', 'verdächtigen', ',', 'dass', 'der', 'Spion', 'sg', 'ihr', 'Feind', 'sg', 'das', 'Geheimnis', 'pl', 'verratet', 'hat', '.'], ['Wir', 'denken', ',', 'dass', 'die', 'Frau', 'sg', 'sein', 'Partner', 'sg', 'eine', 'Überraschung', 'sg', 'versprochen', 'hat', '.'], ['Ihr', 'weisst', ',', 'dass', 'die', 'Mutter', 'sg', 'ihre', 'Tochter', 'sg', 'ein', 'Paket', 'sg', 'geschickt', 'hat', '.'], ['Sie', 'sagen', ',', 'dass', 'der', 'Sportler', 'sg', 'seine', 'Nachbarin', 'sg', 'sein', 'Fahrrad', 'sg', 'verliehen', 'hat', '.'], ['Wir', 'erfahren', ',', 'dass', 'die', 'Presse', 'sg', 'der', 'Zuhörer', 'pl', 'die', 'Nachricht', 'sg', 'verkündet', 'hat', '.'], ['Sie', 'hören', ',', 'dass', 'der', 'Senat', 'sg', 'die', 'Abgeordnete', 'pl', 'eine', 'Maßnahme', 'sg', 'gemeldet', 'hat', '.'], ['Ich', 'glaube', ',', 'dass', 'der', 'Junge', 'sg', 'sein', 'Kumpel', 'sg', 'ein', 'Kugelschreiber', 'sg', 'mitgebracht', 'hat', '.'], ['Ich', 'hoffe', ',', 'dass', 'das', 'Theater', 'sg', 'der', 'Musiker', 'pl', 'ein', 'Sitzplatz', 'pl', 'reserviert', 'hat', '.'], ['Er', 'befürwortet', ',', 'dass', 'der', 'Schüler', 'pl', 'der', 'Lehrer', 'sg', 'ihre', 'Frage', 'pl', 'mitgeteilt', 'haben', '.'], ['Er', 'bewundert', ',', 'dass', 'der', 'Professor', 'sg', 'der', 'Student', 'pl', 'ein', 'Fach', 'pl', 'unterrichet', 'hat', '.'], ['Sie', 'hofft', ',', 'dass', 'der', 'Chef', 'sg', 'das', 'Kind', 'pl', 'ein', 'Kuchen', 'sg', 'gebacken', 'hat', '.']]\n"
     ]
    }
   ],
   "source": [
    "print(tokens_w_number)"
   ]
  },
  {
   "cell_type": "code",
   "execution_count": 87,
   "metadata": {},
   "outputs": [
    {
     "name": "stdout",
     "output_type": "stream",
     "text": [
      "[['Wir', 'glauben', ',', 'dass', 'der', 'Mann', 'die', 'Frau', 'ein', 'Geschenk', 'gegeben', 'hat', '.'], ['Wir', 'wissen', ',', 'dass', 'der', 'Bankier', 'sein', 'Kunde', 'eine', 'Finanzierung', 'angeboten', 'hat', '.'], ['Wir', 'wissen', ',', 'dass', 'das', 'Kindermädchen', 'das', 'Kind', 'ein', 'Buch', 'gekauft', 'hat', '.'], ['Wir', 'vermuten', ',', 'dass', 'die', 'Hausherrin', 'sein', 'Gast', 'ein', 'Wein', 'angebietet', 'hat', '.'], ['Wir', 'denken', ',', 'dass', 'der', 'Mann', 'sein', 'Freund', 'eine', 'Sehenswürdigkeit', 'gezeigt', 'hat', '.'], ['Wir', 'bezweifeln', ',', 'dass', 'der', 'Verdächtiger', 'sein', 'Anwalt', 'die', 'Wahrheit', 'verheimlicht', 'hat', '.'], ['Wir', 'denken', ',', 'dass', 'der', 'Arzt', 'der', 'Patient', 'eine', 'Behandlung', 'verschieben', 'hat', '.'], ['Wir', 'erfahren', ',', 'dass', 'der', 'Eigentümer', 'ein', 'Student', 'seine', 'Wohnung', 'vermietet', 'hat', '.'], ['Wir', 'verdächtigen', ',', 'dass', 'der', 'Spion', 'ihr', 'Feind', 'das', 'Geheimnis', 'verratet', 'hat', '.'], ['Wir', 'denken', ',', 'dass', 'die', 'Frau', 'sein', 'Partner', 'eine', 'Überraschung', 'versprochen', 'hat', '.'], ['Ihr', 'weisst', ',', 'dass', 'die', 'Mutter', 'ihre', 'Tochter', 'ein', 'Paket', 'geschickt', 'hat', '.'], ['Sie', 'sagen', ',', 'dass', 'der', 'Sportler', 'seine', 'Nachbarin', 'sein', 'Fahrrad', 'verliehen', 'hat', '.'], ['Wir', 'erfahren', ',', 'dass', 'die', 'Presse', 'der', 'Zuhörer', 'die', 'Nachricht', 'verkündet', 'hat', '.'], ['Sie', 'hören', ',', 'dass', 'der', 'Senat', 'die', 'Abgeordnete', 'eine', 'Maßnahme', 'gemeldet', 'hat', '.'], ['Ich', 'glaube', ',', 'dass', 'der', 'Junge', 'sein', 'Kumpel', 'ein', 'Kugelschreiber', 'mitgebracht', 'hat', '.'], ['Ich', 'hoffe', ',', 'dass', 'das', 'Theater', 'der', 'Musiker', 'ein', 'Sitzplatz', 'reserviert', 'hat', '.'], ['Er', 'befürwortet', ',', 'dass', 'der', 'Schüler', 'der', 'Lehrer', 'ihre', 'Frage', 'mitgeteilt', 'haben', '.'], ['Er', 'bewundert', ',', 'dass', 'der', 'Professor', 'der', 'Student', 'ein', 'Fach', 'unterrichet', 'hat', '.'], ['Sie', 'hofft', ',', 'dass', 'der', 'Chef', 'das', 'Kind', 'ein', 'Kuchen', 'gebacken', 'hat', '.']]\n"
     ]
    }
   ],
   "source": [
    "print(tokens_wo_number)"
   ]
  },
  {
   "cell_type": "code",
   "execution_count": 88,
   "metadata": {},
   "outputs": [
    {
     "name": "stdout",
     "output_type": "stream",
     "text": [
      "sentences in tokens 19\n",
      "characters in tokens with number: 16\n",
      "characters in tokens without number: 13\n"
     ]
    }
   ],
   "source": [
    "print(\"sentences in tokens\", len(tokens_w_number))\n",
    "print(\"characters in tokens with number:\", len(tokens_w_number[0]))\n",
    "print(\"characters in tokens without number:\", len(tokens_wo_number[0]))"
   ]
  },
  {
   "cell_type": "markdown",
   "metadata": {},
   "source": [
    "### Selecting verb arguments"
   ]
  },
  {
   "cell_type": "code",
   "execution_count": 89,
   "metadata": {},
   "outputs": [
    {
     "name": "stdout",
     "output_type": "stream",
     "text": [
      "[['der Mann', 'die Frau', 'ein Geschenk'], ['der Bankier', 'sein Kunde', 'eine Finanzierung'], ['das Kindermädchen', 'das Kind', 'ein Buch'], ['die Hausherrin', 'sein Gast', 'ein Wein'], ['der Mann', 'sein Freund', 'eine Sehenswürdigkeit'], ['der Verdächtiger', 'sein Anwalt', 'die Wahrheit'], ['der Arzt', 'der Patient', 'eine Behandlung'], ['der Eigentümer', 'ein Student', 'seine Wohnung'], ['der Spion', 'ihr Feind', 'das Geheimnis'], ['die Frau', 'sein Partner', 'eine Überraschung'], ['die Mutter', 'ihre Tochter', 'ein Paket'], ['der Sportler', 'seine Nachbarin', 'sein Fahrrad'], ['die Presse', 'der Zuhörer', 'die Nachricht'], ['der Senat', 'die Abgeordnete', 'eine Maßnahme'], ['der Junge', 'sein Kumpel', 'ein Kugelschreiber'], ['das Theater', 'der Musiker', 'ein Sitzplatz'], ['der Schüler', 'der Lehrer', 'ihre Frage'], ['der Professor', 'der Student', 'ein Fach'], ['der Chef', 'das Kind', 'ein Kuchen']]\n"
     ]
    }
   ],
   "source": [
    "args_wo_number = [[] for _ in range(len(tokens_wo_number))]\n",
    "for sentence_idx, sentence in enumerate(tokens_wo_number):\n",
    "    args_wo_number[sentence_idx].append(tokens_wo_number[sentence_idx][4]+\" \"+tokens_wo_number[sentence_idx][5])\n",
    "    args_wo_number[sentence_idx].append(tokens_wo_number[sentence_idx][6]+\" \"+tokens_wo_number[sentence_idx][7])\n",
    "    args_wo_number[sentence_idx].append(tokens_wo_number[sentence_idx][8]+\" \"+tokens_wo_number[sentence_idx][9])\n",
    "print(args_wo_number)"
   ]
  },
  {
   "cell_type": "code",
   "execution_count": 90,
   "metadata": {},
   "outputs": [
    {
     "name": "stdout",
     "output_type": "stream",
     "text": [
      "[[['der', 'Mann', 'sg'], ['die', 'Frau', 'pl'], ['ein', 'Geschenk', 'sg']], [['der', 'Bankier', 'sg'], ['sein', 'Kunde', 'pl'], ['eine', 'Finanzierung', 'sg']], [['das', 'Kindermädchen', 'sg'], ['das', 'Kind', 'sg'], ['ein', 'Buch', 'sg']], [['die', 'Hausherrin', 'sg'], ['sein', 'Gast', 'pl'], ['ein', 'Wein', 'sg']], [['der', 'Mann', 'sg'], ['sein', 'Freund', 'pl'], ['eine', 'Sehenswürdigkeit', 'pl']], [['der', 'Verdächtiger', 'sg'], ['sein', 'Anwalt', 'sg'], ['die', 'Wahrheit', 'sg']], [['der', 'Arzt', 'sg'], ['der', 'Patient', 'sg'], ['eine', 'Behandlung', 'sg']], [['der', 'Eigentümer', 'sg'], ['ein', 'Student', 'sg'], ['seine', 'Wohnung', 'sg']], [['der', 'Spion', 'sg'], ['ihr', 'Feind', 'sg'], ['das', 'Geheimnis', 'pl']], [['die', 'Frau', 'sg'], ['sein', 'Partner', 'sg'], ['eine', 'Überraschung', 'sg']], [['die', 'Mutter', 'sg'], ['ihre', 'Tochter', 'sg'], ['ein', 'Paket', 'sg']], [['der', 'Sportler', 'sg'], ['seine', 'Nachbarin', 'sg'], ['sein', 'Fahrrad', 'sg']], [['die', 'Presse', 'sg'], ['der', 'Zuhörer', 'pl'], ['die', 'Nachricht', 'sg']], [['der', 'Senat', 'sg'], ['die', 'Abgeordnete', 'pl'], ['eine', 'Maßnahme', 'sg']], [['der', 'Junge', 'sg'], ['sein', 'Kumpel', 'sg'], ['ein', 'Kugelschreiber', 'sg']], [['das', 'Theater', 'sg'], ['der', 'Musiker', 'pl'], ['ein', 'Sitzplatz', 'pl']], [['der', 'Schüler', 'pl'], ['der', 'Lehrer', 'sg'], ['ihre', 'Frage', 'pl']], [['der', 'Professor', 'sg'], ['der', 'Student', 'pl'], ['ein', 'Fach', 'pl']], [['der', 'Chef', 'sg'], ['das', 'Kind', 'pl'], ['ein', 'Kuchen', 'sg']]]\n"
     ]
    }
   ],
   "source": [
    "args_number = 3\n",
    "args_w_number = [[[] for _ in range(args_number)] for _ in range(len(tokens_w_number))]\n",
    "for sentence_idx, sentence in enumerate(tokens_w_number):\n",
    "    args_w_number[sentence_idx][0]=(tokens_w_number[sentence_idx][4:7])\n",
    "    args_w_number[sentence_idx][1]=(tokens_w_number[sentence_idx][7:10])\n",
    "    args_w_number[sentence_idx][2]=(tokens_w_number[sentence_idx][10:13])\n",
    "print(args_w_number)"
   ]
  },
  {
   "cell_type": "code",
   "execution_count": 91,
   "metadata": {},
   "outputs": [
    {
     "name": "stdout",
     "output_type": "stream",
     "text": [
      "19\n",
      "3\n"
     ]
    }
   ],
   "source": [
    "print(len(args_w_number))\n",
    "print(len(args_w_number[0]))"
   ]
  },
  {
   "cell_type": "markdown",
   "metadata": {},
   "source": [
    "### Permuting verb argument positions"
   ]
  },
  {
   "cell_type": "code",
   "execution_count": 92,
   "metadata": {},
   "outputs": [
    {
     "name": "stdout",
     "output_type": "stream",
     "text": [
      "[('der Mann', 'die Frau', 'ein Geschenk'), ('der Mann', 'ein Geschenk', 'die Frau'), ('die Frau', 'der Mann', 'ein Geschenk'), ('die Frau', 'ein Geschenk', 'der Mann'), ('ein Geschenk', 'der Mann', 'die Frau'), ('ein Geschenk', 'die Frau', 'der Mann')]\n"
     ]
    }
   ],
   "source": [
    "# permute noun phrases\n",
    "from itertools import permutations\n",
    "shuffled_args = [[] for _ in range(len(args_wo_number))]\n",
    "for i in range(len(args_wo_number)):\n",
    "    shuffled_args[i] = list(permutations(args_wo_number[i]))\n",
    "print(shuffled_args[0])"
   ]
  },
  {
   "cell_type": "code",
   "execution_count": 100,
   "metadata": {
    "scrolled": true
   },
   "outputs": [
    {
     "name": "stdout",
     "output_type": "stream",
     "text": [
      "original sentences: 19\n",
      "generated sentences per original sentence: 6\n",
      "[['Wir glauben,dass der Mann die Frau ein Geschenk gegeben hat.', 'Wir glauben,dass der Mann ein Geschenk die Frau gegeben hat.', 'Wir glauben,dass die Frau der Mann ein Geschenk gegeben hat.', 'Wir glauben,dass die Frau ein Geschenk der Mann gegeben hat.', 'Wir glauben,dass ein Geschenk der Mann die Frau gegeben hat.', 'Wir glauben,dass ein Geschenk die Frau der Mann gegeben hat.'], ['Wir wissen,dass der Bankier sein Kunde eine Finanzierung angeboten hat.', 'Wir wissen,dass der Bankier eine Finanzierung sein Kunde angeboten hat.', 'Wir wissen,dass sein Kunde der Bankier eine Finanzierung angeboten hat.', 'Wir wissen,dass sein Kunde eine Finanzierung der Bankier angeboten hat.', 'Wir wissen,dass eine Finanzierung der Bankier sein Kunde angeboten hat.', 'Wir wissen,dass eine Finanzierung sein Kunde der Bankier angeboten hat.'], ['Wir wissen,dass das Kindermädchen das Kind ein Buch gekauft hat.', 'Wir wissen,dass das Kindermädchen ein Buch das Kind gekauft hat.', 'Wir wissen,dass das Kind das Kindermädchen ein Buch gekauft hat.', 'Wir wissen,dass das Kind ein Buch das Kindermädchen gekauft hat.', 'Wir wissen,dass ein Buch das Kindermädchen das Kind gekauft hat.', 'Wir wissen,dass ein Buch das Kind das Kindermädchen gekauft hat.'], ['Wir vermuten,dass die Hausherrin sein Gast ein Wein angebietet hat.', 'Wir vermuten,dass die Hausherrin ein Wein sein Gast angebietet hat.', 'Wir vermuten,dass sein Gast die Hausherrin ein Wein angebietet hat.', 'Wir vermuten,dass sein Gast ein Wein die Hausherrin angebietet hat.', 'Wir vermuten,dass ein Wein die Hausherrin sein Gast angebietet hat.', 'Wir vermuten,dass ein Wein sein Gast die Hausherrin angebietet hat.'], ['Wir denken,dass der Mann sein Freund eine Sehenswürdigkeit gezeigt hat.', 'Wir denken,dass der Mann eine Sehenswürdigkeit sein Freund gezeigt hat.', 'Wir denken,dass sein Freund der Mann eine Sehenswürdigkeit gezeigt hat.', 'Wir denken,dass sein Freund eine Sehenswürdigkeit der Mann gezeigt hat.', 'Wir denken,dass eine Sehenswürdigkeit der Mann sein Freund gezeigt hat.', 'Wir denken,dass eine Sehenswürdigkeit sein Freund der Mann gezeigt hat.'], ['Wir bezweifeln,dass der Verdächtiger sein Anwalt die Wahrheit verheimlicht hat.', 'Wir bezweifeln,dass der Verdächtiger die Wahrheit sein Anwalt verheimlicht hat.', 'Wir bezweifeln,dass sein Anwalt der Verdächtiger die Wahrheit verheimlicht hat.', 'Wir bezweifeln,dass sein Anwalt die Wahrheit der Verdächtiger verheimlicht hat.', 'Wir bezweifeln,dass die Wahrheit der Verdächtiger sein Anwalt verheimlicht hat.', 'Wir bezweifeln,dass die Wahrheit sein Anwalt der Verdächtiger verheimlicht hat.'], ['Wir denken,dass der Arzt der Patient eine Behandlung verschieben hat.', 'Wir denken,dass der Arzt eine Behandlung der Patient verschieben hat.', 'Wir denken,dass der Patient der Arzt eine Behandlung verschieben hat.', 'Wir denken,dass der Patient eine Behandlung der Arzt verschieben hat.', 'Wir denken,dass eine Behandlung der Arzt der Patient verschieben hat.', 'Wir denken,dass eine Behandlung der Patient der Arzt verschieben hat.'], ['Wir erfahren,dass der Eigentümer ein Student seine Wohnung vermietet hat.', 'Wir erfahren,dass der Eigentümer seine Wohnung ein Student vermietet hat.', 'Wir erfahren,dass ein Student der Eigentümer seine Wohnung vermietet hat.', 'Wir erfahren,dass ein Student seine Wohnung der Eigentümer vermietet hat.', 'Wir erfahren,dass seine Wohnung der Eigentümer ein Student vermietet hat.', 'Wir erfahren,dass seine Wohnung ein Student der Eigentümer vermietet hat.'], ['Wir verdächtigen,dass der Spion ihr Feind das Geheimnis verratet hat.', 'Wir verdächtigen,dass der Spion das Geheimnis ihr Feind verratet hat.', 'Wir verdächtigen,dass ihr Feind der Spion das Geheimnis verratet hat.', 'Wir verdächtigen,dass ihr Feind das Geheimnis der Spion verratet hat.', 'Wir verdächtigen,dass das Geheimnis der Spion ihr Feind verratet hat.', 'Wir verdächtigen,dass das Geheimnis ihr Feind der Spion verratet hat.'], ['Wir denken,dass die Frau sein Partner eine Überraschung versprochen hat.', 'Wir denken,dass die Frau eine Überraschung sein Partner versprochen hat.', 'Wir denken,dass sein Partner die Frau eine Überraschung versprochen hat.', 'Wir denken,dass sein Partner eine Überraschung die Frau versprochen hat.', 'Wir denken,dass eine Überraschung die Frau sein Partner versprochen hat.', 'Wir denken,dass eine Überraschung sein Partner die Frau versprochen hat.'], ['Ihr weisst,dass die Mutter ihre Tochter ein Paket geschickt hat.', 'Ihr weisst,dass die Mutter ein Paket ihre Tochter geschickt hat.', 'Ihr weisst,dass ihre Tochter die Mutter ein Paket geschickt hat.', 'Ihr weisst,dass ihre Tochter ein Paket die Mutter geschickt hat.', 'Ihr weisst,dass ein Paket die Mutter ihre Tochter geschickt hat.', 'Ihr weisst,dass ein Paket ihre Tochter die Mutter geschickt hat.'], ['Sie sagen,dass der Sportler seine Nachbarin sein Fahrrad verliehen hat.', 'Sie sagen,dass der Sportler sein Fahrrad seine Nachbarin verliehen hat.', 'Sie sagen,dass seine Nachbarin der Sportler sein Fahrrad verliehen hat.', 'Sie sagen,dass seine Nachbarin sein Fahrrad der Sportler verliehen hat.', 'Sie sagen,dass sein Fahrrad der Sportler seine Nachbarin verliehen hat.', 'Sie sagen,dass sein Fahrrad seine Nachbarin der Sportler verliehen hat.'], ['Wir erfahren,dass die Presse der Zuhörer die Nachricht verkündet hat.', 'Wir erfahren,dass die Presse die Nachricht der Zuhörer verkündet hat.', 'Wir erfahren,dass der Zuhörer die Presse die Nachricht verkündet hat.', 'Wir erfahren,dass der Zuhörer die Nachricht die Presse verkündet hat.', 'Wir erfahren,dass die Nachricht die Presse der Zuhörer verkündet hat.', 'Wir erfahren,dass die Nachricht der Zuhörer die Presse verkündet hat.'], ['Sie hören,dass der Senat die Abgeordnete eine Maßnahme gemeldet hat.', 'Sie hören,dass der Senat eine Maßnahme die Abgeordnete gemeldet hat.', 'Sie hören,dass die Abgeordnete der Senat eine Maßnahme gemeldet hat.', 'Sie hören,dass die Abgeordnete eine Maßnahme der Senat gemeldet hat.', 'Sie hören,dass eine Maßnahme der Senat die Abgeordnete gemeldet hat.', 'Sie hören,dass eine Maßnahme die Abgeordnete der Senat gemeldet hat.'], ['Ich glaube,dass der Junge sein Kumpel ein Kugelschreiber mitgebracht hat.', 'Ich glaube,dass der Junge ein Kugelschreiber sein Kumpel mitgebracht hat.', 'Ich glaube,dass sein Kumpel der Junge ein Kugelschreiber mitgebracht hat.', 'Ich glaube,dass sein Kumpel ein Kugelschreiber der Junge mitgebracht hat.', 'Ich glaube,dass ein Kugelschreiber der Junge sein Kumpel mitgebracht hat.', 'Ich glaube,dass ein Kugelschreiber sein Kumpel der Junge mitgebracht hat.'], ['Ich hoffe,dass das Theater der Musiker ein Sitzplatz reserviert hat.', 'Ich hoffe,dass das Theater ein Sitzplatz der Musiker reserviert hat.', 'Ich hoffe,dass der Musiker das Theater ein Sitzplatz reserviert hat.', 'Ich hoffe,dass der Musiker ein Sitzplatz das Theater reserviert hat.', 'Ich hoffe,dass ein Sitzplatz das Theater der Musiker reserviert hat.', 'Ich hoffe,dass ein Sitzplatz der Musiker das Theater reserviert hat.'], ['Er befürwortet,dass der Schüler der Lehrer ihre Frage mitgeteilt haben.', 'Er befürwortet,dass der Schüler ihre Frage der Lehrer mitgeteilt haben.', 'Er befürwortet,dass der Lehrer der Schüler ihre Frage mitgeteilt haben.', 'Er befürwortet,dass der Lehrer ihre Frage der Schüler mitgeteilt haben.', 'Er befürwortet,dass ihre Frage der Schüler der Lehrer mitgeteilt haben.', 'Er befürwortet,dass ihre Frage der Lehrer der Schüler mitgeteilt haben.'], ['Er bewundert,dass der Professor der Student ein Fach unterrichet hat.', 'Er bewundert,dass der Professor ein Fach der Student unterrichet hat.', 'Er bewundert,dass der Student der Professor ein Fach unterrichet hat.', 'Er bewundert,dass der Student ein Fach der Professor unterrichet hat.', 'Er bewundert,dass ein Fach der Professor der Student unterrichet hat.', 'Er bewundert,dass ein Fach der Student der Professor unterrichet hat.'], ['Sie hofft,dass der Chef das Kind ein Kuchen gebacken hat.', 'Sie hofft,dass der Chef ein Kuchen das Kind gebacken hat.', 'Sie hofft,dass das Kind der Chef ein Kuchen gebacken hat.', 'Sie hofft,dass das Kind ein Kuchen der Chef gebacken hat.', 'Sie hofft,dass ein Kuchen der Chef das Kind gebacken hat.', 'Sie hofft,dass ein Kuchen das Kind der Chef gebacken hat.']]\n"
     ]
    }
   ],
   "source": [
    "# shuffle positions\n",
    "shuffled_sentences = [[] for _ in range(len(args_wo_number))]\n",
    "for sentence_idx, sentence in enumerate(tokens_wo_number): \n",
    "    for noun_group in shuffled_args[sentence_idx]:\n",
    "        principal_clause = f\"{tokens_wo_number[sentence_idx][0]} {tokens_wo_number[sentence_idx][1]},{tokens_wo_number[sentence_idx][3]}\"\n",
    "        verb_arguments = f\"{noun_group[0]} {noun_group[1]} {noun_group[2]}\"\n",
    "        verb_subordinate = f\"{tokens_wo_number[sentence_idx][-3]} {tokens_wo_number[sentence_idx][-2]}\"\n",
    "        shuffled_sentences[sentence_idx].append(f\"{principal_clause} {verb_arguments} {verb_subordinate}.\")\n",
    "        \n",
    "print(\"original sentences:\", len(shuffled_sentences))\n",
    "print(\"generated sentences per original sentence:\",len(shuffled_sentences[0]))\n",
    "print(shuffled_sentences)\n"
   ]
  },
  {
   "cell_type": "markdown",
   "metadata": {},
   "source": [
    "### Generate case permutations"
   ]
  },
  {
   "cell_type": "code",
   "execution_count": 141,
   "metadata": {},
   "outputs": [],
   "source": [
    "def get_nom(group_args):\n",
    "    # get nominative of verb argument and corresponding article\n",
    "    new_nom = []\n",
    "    article = group_args[0]\n",
    "    word = group_args[1]\n",
    "    number = group_args[2]\n",
    "    \n",
    "    # get singular \n",
    "    if number == \"sg\":\n",
    "        new_nom.append(article+\" \"+word)\n",
    "    \n",
    "    # get plural\n",
    "    else:\n",
    "        pl_article = \"\"\n",
    "        pl_word = \"\"\n",
    "        if article in {\"der\",\"die\",\"das\"}:\n",
    "            pl_article = \"die\"\n",
    "        elif article in {\"sein\",\"seine\"}:\n",
    "            pl_article = \"seine\"\n",
    "        elif article in {\"ihr\",\"ihre\"}:\n",
    "            pl_article = \"ihre\"\n",
    "        elif article in {\"ein\",\"eine\"}:\n",
    "            pl_article = \"einige\"\n",
    "        \n",
    "        pl_word = german_dict[word][4]\n",
    "        \n",
    "        new_nom.append(pl_article+\" \"+pl_word)\n",
    "        \n",
    "    return new_nom"
   ]
  },
  {
   "cell_type": "code",
   "execution_count": 142,
   "metadata": {},
   "outputs": [
    {
     "name": "stdout",
     "output_type": "stream",
     "text": [
      "['der Mann']\n",
      "['die Frauen']\n",
      "['einige Fächer']\n",
      "['ein Kuchen']\n"
     ]
    }
   ],
   "source": [
    "print(get_nom(args_w_number[0][0]))\n",
    "print(get_nom(args_w_number[0][1]))\n",
    "print(get_nom(args_w_number[17][2]))\n",
    "print(get_nom(args_w_number[18][2]))"
   ]
  },
  {
   "cell_type": "code",
   "execution_count": 143,
   "metadata": {},
   "outputs": [],
   "source": [
    "def get_acc(group_args):\n",
    "    # get accusative of verb argument and corresponding article\n",
    "    new_acc = []\n",
    "    article = group_args[0]\n",
    "    word = group_args[1]\n",
    "    gender = german_dict[word][0]\n",
    "    number = group_args[2]\n",
    "    \n",
    "    # singular\n",
    "    if number == \"sg\":\n",
    "        sg_article = \"\"\n",
    "        sg_word = \"\"\n",
    "        if gender == \"m\":\n",
    "            if article == \"der\":\n",
    "                sg_article = \"den\"\n",
    "            elif article == \"sein\":\n",
    "                sg_article = \"seinen\"\n",
    "            elif article == \"ihr\":\n",
    "                sg_article = \"ihren\"\n",
    "            else:\n",
    "                sg_article = \"einen\"\n",
    "        else:\n",
    "            sg_article = article\n",
    "        \n",
    "        sg_word = german_dict[word][1]\n",
    "        \n",
    "        new_acc.append(sg_article+\" \"+sg_word)\n",
    "                \n",
    "    # plural        \n",
    "    else: \n",
    "        pl_article = \"\"\n",
    "        pl_word = \"\"\n",
    "        if article in {\"der\",\"die\",\"das\"}:\n",
    "            pl_article = \"die\"\n",
    "        elif article in {\"sein\",\"seine\"}:\n",
    "            pl_article = \"seine\"\n",
    "        elif article in {\"ihr\",\"ihre\"}:\n",
    "            pl_article = \"ihre\"\n",
    "        elif article in {\"ein\",\"eine\"}:\n",
    "            pl_article = \"einige\"\n",
    "        #elif article in {\"ein\",\"eine\"}:\n",
    "            \n",
    "    \n",
    "        pl_word = german_dict[word][5]   \n",
    "        \n",
    "        new_acc.append(pl_article+\" \"+pl_word)\n",
    "        \n",
    "    return new_acc"
   ]
  },
  {
   "cell_type": "code",
   "execution_count": 144,
   "metadata": {},
   "outputs": [
    {
     "name": "stdout",
     "output_type": "stream",
     "text": [
      "['den Mann']\n",
      "['die Frauen']\n",
      "['den Bankier']\n",
      "['einige Fächer']\n"
     ]
    }
   ],
   "source": [
    "print(get_acc(args_w_number[0][0]))\n",
    "print(get_acc(args_w_number[0][1]))\n",
    "print(get_acc(args_w_number[1][0]))\n",
    "print(get_acc(args_w_number[17][2]))"
   ]
  },
  {
   "cell_type": "code",
   "execution_count": 149,
   "metadata": {},
   "outputs": [],
   "source": [
    "def get_dat(group_args):\n",
    "    # get dative of verb argument and corresponding article\n",
    "    new_dat = []\n",
    "    article = group_args[0]\n",
    "    word = group_args[1]\n",
    "    gender = german_dict[word][0]\n",
    "    number = group_args[2]\n",
    "    \n",
    "    if number == \"sg\":\n",
    "        sg_article = \"\"\n",
    "        sg_word = \"\"\n",
    "        if gender in {\"m\",\"n\"}:\n",
    "            if article in {\"der\",\"das\"}:\n",
    "                sg_article = \"dem\"\n",
    "            elif article == \"sein\":\n",
    "                sg_article = \"seinem\"\n",
    "            elif article == \"ihr\":\n",
    "                sg_article = \"ihrem\"\n",
    "            elif article == \"ein\":\n",
    "                sg_article = \"einem\"\n",
    "        elif gender == \"f\":\n",
    "            if article == \"die\":\n",
    "                sg_article = \"der\"\n",
    "            elif article == \"seine\":\n",
    "                sg_article = \"seiner\"\n",
    "            elif article == \"ihre\":\n",
    "                sg_article = \"ihrer\"\n",
    "            elif article == \"eine\":\n",
    "                sg_article = \"einer\"\n",
    "        \n",
    "        sg_word = german_dict[word][2] \n",
    "        new_dat.append(sg_article+\" \"+sg_word)\n",
    "        \n",
    "    else: \n",
    "        pl_article = \"\"\n",
    "        pl_word = \"\"\n",
    "        if article in {\"der\",\"die\",\"das\"}:\n",
    "            pl_article = \"den\"\n",
    "        elif article in {\"sein\",\"seine\"}:\n",
    "            pl_article = \"seinen\"\n",
    "        elif article in {\"ihr\",\"ihre\"}:\n",
    "            pl_article = \"ihren\" \n",
    "        elif article in {\"ein\",\"eine\"}:\n",
    "            pl_article = \"einigen\"\n",
    "    \n",
    "        pl_word = german_dict[word][6]   \n",
    "        \n",
    "        new_dat.append(pl_article+\" \"+pl_word)\n",
    "        \n",
    "    return new_dat"
   ]
  },
  {
   "cell_type": "code",
   "execution_count": 150,
   "metadata": {},
   "outputs": [
    {
     "name": "stdout",
     "output_type": "stream",
     "text": [
      "['dem Mann']\n",
      "['den Frauen']\n",
      "['dem Professor']\n",
      "['den Studenten']\n",
      "['einigen Fächern']\n",
      "['ein Kuchen']\n"
     ]
    }
   ],
   "source": [
    "print(get_dat(args_w_number[0][0]))\n",
    "print(get_dat(args_w_number[0][1]))\n",
    "print(get_dat(args_w_number[17][0]))\n",
    "print(get_dat(args_w_number[17][1]))\n",
    "print(get_dat(args_w_number[17][2]))\n",
    "print(get_nom(args_w_number[18][2]))"
   ]
  },
  {
   "cell_type": "code",
   "execution_count": 151,
   "metadata": {},
   "outputs": [],
   "source": [
    "def get_all_cases(list_args, number_args):\n",
    "    all_cases = [[[] for _ in range(number_args)] for _ in range(len(args_w_number))]\n",
    "    for sentence_idx, sentence in enumerate(args_w_number):\n",
    "        for group_args_idx, group_args in enumerate(args_w_number[sentence_idx]):\n",
    "            nom = get_nom(args_w_number[sentence_idx][group_args_idx])\n",
    "            acc = get_acc(args_w_number[sentence_idx][group_args_idx])\n",
    "            dat = get_dat(args_w_number[sentence_idx][group_args_idx])\n",
    "            all_cases[sentence_idx][group_args_idx].append(nom)\n",
    "            all_cases[sentence_idx][group_args_idx].append(acc)\n",
    "            all_cases[sentence_idx][group_args_idx].append(dat)\n",
    "    return all_cases"
   ]
  },
  {
   "cell_type": "code",
   "execution_count": 152,
   "metadata": {
    "scrolled": false
   },
   "outputs": [
    {
     "data": {
      "text/plain": [
       "[[[['der Mann'], ['den Mann'], ['dem Mann']],\n",
       "  [['die Frauen'], ['die Frauen'], ['den Frauen']],\n",
       "  [['ein Geschenk'], ['ein Geschenk'], ['einem Geschenk']]],\n",
       " [[['der Bankier'], ['den Bankier'], ['dem Bankier']],\n",
       "  [['seine Kunden'], ['seine Kunden'], ['seinen Kunden']],\n",
       "  [['eine Finanzierung'], ['eine Finanzierung'], ['einer Finanzierung']]],\n",
       " [[['das Kindermädchen'], ['das Kindermädchen'], ['dem Kindermädchen']],\n",
       "  [['das Kind'], ['das Kind'], ['dem Kind']],\n",
       "  [['ein Buch'], ['ein Buch'], ['einem Buch']]],\n",
       " [[['die Hausherrin'], ['die Hausherrin'], ['der Hausherrin']],\n",
       "  [['seine Gasten'], ['seine Gasten'], ['seinen Gasten']],\n",
       "  [['ein Wein'], ['einen Wein'], ['einem Wein']]],\n",
       " [[['der Mann'], ['den Mann'], ['dem Mann']],\n",
       "  [['seine Freunde'], ['seine Freunde'], ['seinen Freunden']],\n",
       "  [['einige Sehenswürdigkeiten'],\n",
       "   ['einige Sehenswürdigkeiten'],\n",
       "   ['einigen Sehenswürdigkeiten']]],\n",
       " [[['der Verdächtiger'], ['den Verdächtigen'], ['dem Verdächtigem']],\n",
       "  [['sein Anwalt'], ['seinen Anwalt'], ['seinem Anwalt']],\n",
       "  [['die Wahrheit'], ['die Wahrheit'], ['der Wahrheit']]],\n",
       " [[['der Arzt'], ['den Arzt'], ['dem Arzt']],\n",
       "  [['der Patient'], ['den Patienten'], ['dem Patienten']],\n",
       "  [['eine Behandlung'], ['eine Behandlung'], ['einer Behandlung']]],\n",
       " [[['der Eigentümer'], ['den Eigentümer'], ['dem Eigentümer']],\n",
       "  [['ein Student'], ['einen Studenten'], ['einem Studenten']],\n",
       "  [['seine Wohnung'], ['seine Wohnung'], ['seiner Wohnung']]],\n",
       " [[['der Spion'], ['den Spion'], ['dem Spion']],\n",
       "  [['ihr Feind'], ['ihren Feind'], ['ihrem Feind']],\n",
       "  [['die Geheimnisse'], ['die Geheimnisse'], ['den Geheimnissen']]],\n",
       " [[['die Frau'], ['die Frau'], ['der Frau']],\n",
       "  [['sein Partner'], ['seinen Partner'], ['seinem Partner']],\n",
       "  [['eine Überraschung'], ['eine Überraschung'], ['einer Überraschung']]],\n",
       " [[['die Mutter'], ['die Mutter'], ['der Mutter']],\n",
       "  [['ihre Tochter'], ['ihre Tochter'], ['ihrer Tochter']],\n",
       "  [['ein Paket'], ['ein Paket'], ['einem Paket']]],\n",
       " [[['der Sportler'], ['den Sportler'], ['dem Sportler']],\n",
       "  [['seine Nachbarin'], ['seine Nachbarin'], ['seiner Nachbarin']],\n",
       "  [['sein Fahrrad'], ['sein Fahrrad'], ['seinem Fahrrad']]],\n",
       " [[['die Presse'], ['die Presse'], ['der Presse']],\n",
       "  [['die Zuhörer'], ['die Zuhörer'], ['den Zuhörern']],\n",
       "  [['die Nachricht'], ['die Nachricht'], ['der Nachricht']]],\n",
       " [[['der Senat'], ['den Senat'], ['dem Senat']],\n",
       "  [['die '], ['die Abgeordnete'], ['den Abgeordneten']],\n",
       "  [['eine Maßnahme'], ['eine Maßnahme'], ['einer Maßnahme']]],\n",
       " [[['der Junge'], ['den Jungen'], ['dem Jungen']],\n",
       "  [['sein Kumpel'], ['seinen Kumpel'], ['seinem Kumpel']],\n",
       "  [['ein Kugelschreiber'],\n",
       "   ['einen Kugelschreiber'],\n",
       "   ['einem Kugelschreiber']]],\n",
       " [[['das Theater'], ['das Theater'], ['dem Theater']],\n",
       "  [['die Musiker'], ['die Musiker'], ['den Musikern']],\n",
       "  [['einige Sitzplätze'], ['einige Sitzplätze'], ['einigen Sitzplätzen']]],\n",
       " [[['die Schüler'], ['die Schüler'], ['den Schülern']],\n",
       "  [['der Lehrer'], ['den Lehrer'], ['dem Lehrer']],\n",
       "  [['ihre Fragen'], ['ihre Fragen'], ['ihren Fragen']]],\n",
       " [[['der Professor'], ['den Professor'], ['dem Professor']],\n",
       "  [['die Studenten'], ['die Studenten'], ['den Studenten']],\n",
       "  [['einige Fächer'], ['einige Fächer'], ['einigen Fächern']]],\n",
       " [[['der Chef'], ['den Chef'], ['dem Chef']],\n",
       "  [['die Kinder'], ['die Kinder'], ['den Kindern']],\n",
       "  [['ein Kuchen'], ['einen Kuchen'], ['einem Kuchen']]]]"
      ]
     },
     "execution_count": 152,
     "metadata": {},
     "output_type": "execute_result"
    }
   ],
   "source": [
    "get_all_cases(args_w_number, 3)"
   ]
  }
 ],
 "metadata": {
  "kernelspec": {
   "display_name": "Python 3",
   "language": "python",
   "name": "python3"
  },
  "language_info": {
   "codemirror_mode": {
    "name": "ipython",
    "version": 3
   },
   "file_extension": ".py",
   "mimetype": "text/x-python",
   "name": "python",
   "nbconvert_exporter": "python",
   "pygments_lexer": "ipython3",
   "version": "3.6.8"
  }
 },
 "nbformat": 4,
 "nbformat_minor": 2
}
